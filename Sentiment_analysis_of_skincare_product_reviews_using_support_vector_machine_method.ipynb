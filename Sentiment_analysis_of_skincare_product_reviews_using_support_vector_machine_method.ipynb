{
  "nbformat": 4,
  "nbformat_minor": 0,
  "metadata": {
    "colab": {
      "name": "Sentiment analysis of skincare product reviews using support vector machine method.ipynb",
      "provenance": [],
      "authorship_tag": "ABX9TyMa7DFqYlYMF0u+V1M4U5UT",
      "include_colab_link": true
    },
    "kernelspec": {
      "name": "python3",
      "display_name": "Python 3"
    },
    "language_info": {
      "name": "python"
    }
  },
  "cells": [
    {
      "cell_type": "markdown",
      "metadata": {
        "id": "view-in-github",
        "colab_type": "text"
      },
      "source": [
        "<a href=\"https://colab.research.google.com/github/willywildan/Analisis-Sentimen-SVM/blob/main/Sentiment_analysis_of_skincare_product_reviews_using_support_vector_machine_method.ipynb\" target=\"_parent\"><img src=\"https://colab.research.google.com/assets/colab-badge.svg\" alt=\"Open In Colab\"/></a>"
      ]
    },
    {
      "cell_type": "code",
      "execution_count": 44,
      "metadata": {
        "colab": {
          "base_uri": "https://localhost:8080/"
        },
        "id": "vl9SMyGcL7rF",
        "outputId": "bc1274da-905d-4764-cac7-caa9c9188fbc"
      },
      "outputs": [
        {
          "output_type": "stream",
          "name": "stdout",
          "text": [
            "Requirement already satisfied: sklearn in /usr/local/lib/python3.7/dist-packages (0.0)\n",
            "Requirement already satisfied: scikit-learn in /usr/local/lib/python3.7/dist-packages (from sklearn) (1.0.2)\n",
            "Requirement already satisfied: scipy>=1.1.0 in /usr/local/lib/python3.7/dist-packages (from scikit-learn->sklearn) (1.4.1)\n",
            "Requirement already satisfied: numpy>=1.14.6 in /usr/local/lib/python3.7/dist-packages (from scikit-learn->sklearn) (1.19.5)\n",
            "Requirement already satisfied: joblib>=0.11 in /usr/local/lib/python3.7/dist-packages (from scikit-learn->sklearn) (1.1.0)\n",
            "Requirement already satisfied: threadpoolctl>=2.0.0 in /usr/local/lib/python3.7/dist-packages (from scikit-learn->sklearn) (3.0.0)\n"
          ]
        }
      ],
      "source": [
        "pip install sklearn"
      ]
    },
    {
      "cell_type": "code",
      "source": [
        "pip install Sastrawi"
      ],
      "metadata": {
        "colab": {
          "base_uri": "https://localhost:8080/"
        },
        "id": "6BPo-gxRMkNk",
        "outputId": "06ce9715-7b96-450f-acce-1995f6211d6b"
      },
      "execution_count": 45,
      "outputs": [
        {
          "output_type": "stream",
          "name": "stdout",
          "text": [
            "Requirement already satisfied: Sastrawi in /usr/local/lib/python3.7/dist-packages (1.0.1)\n"
          ]
        }
      ]
    },
    {
      "cell_type": "markdown",
      "source": [
        "Import library"
      ],
      "metadata": {
        "id": "jsKx375dMqi-"
      }
    },
    {
      "cell_type": "code",
      "source": [
        "import numpy as np\n",
        "import pandas as pd\n",
        "import re\n",
        "import nltk\n",
        "from sklearn import metrics\n",
        "nltk.download('punkt')\n",
        "import string\n",
        "import pickle\n",
        "import matplotlib.pyplot as plt\n",
        "#import word_tokenize & FreqDist from NLTK\n",
        "from nltk.tokenize import word_tokenize, MWETokenizer\n",
        "from nltk.probability import FreqDist\n",
        "from sklearn.feature_extraction.text import CountVectorizer, TfidfTransformer, TfidfVectorizer \n",
        "from sklearn.pipeline import Pipeline\n",
        "from sklearn.linear_model import SGDClassifier\n",
        "from sklearn.model_selection import train_test_split\n",
        "from sklearn import model_selection, naive_bayes, svm\n",
        "from sklearn.metrics import accuracy_score\n",
        "#Filtering (stopword Removal)\n",
        "from nltk.corpus import stopwords\n",
        "from Sastrawi.StopWordRemover.StopWordRemoverFactory import StopWordRemoverFactory\n",
        "#Stemming\n",
        "from Sastrawi.Stemmer.StemmerFactory import StemmerFactory\n",
        "from pydrive.auth import GoogleAuth\n",
        "from pydrive.drive import GoogleDrive\n",
        "from google.colab import auth\n",
        "from oauth2client.client import GoogleCredentials\n"
      ],
      "metadata": {
        "colab": {
          "base_uri": "https://localhost:8080/"
        },
        "id": "JqGOfVyAMotV",
        "outputId": "5102bf91-e2bb-44bf-ee3f-148b52cce724"
      },
      "execution_count": 46,
      "outputs": [
        {
          "output_type": "stream",
          "name": "stdout",
          "text": [
            "[nltk_data] Downloading package punkt to /root/nltk_data...\n",
            "[nltk_data]   Package punkt is already up-to-date!\n"
          ]
        }
      ]
    },
    {
      "cell_type": "code",
      "source": [
        "from google.colab import drive\n",
        "drive.mount('/content/drive')"
      ],
      "metadata": {
        "colab": {
          "base_uri": "https://localhost:8080/"
        },
        "id": "DX1sUQRfMwPy",
        "outputId": "43c5754a-9488-402c-82a6-10caa3d44dc9"
      },
      "execution_count": 47,
      "outputs": [
        {
          "output_type": "stream",
          "name": "stdout",
          "text": [
            "Drive already mounted at /content/drive; to attempt to forcibly remount, call drive.mount(\"/content/drive\", force_remount=True).\n"
          ]
        }
      ]
    },
    {
      "cell_type": "code",
      "source": [
        "data = pd.read_csv(\"/content/drive/My Drive/Project/Thesis/reviewFD.csv\", sep= ',')\n",
        "data.head()"
      ],
      "metadata": {
        "colab": {
          "base_uri": "https://localhost:8080/",
          "height": 206
        },
        "id": "CeiT8alTMxAq",
        "outputId": "8316b338-82d8-4cf4-b826-eb2b0c1288f6"
      },
      "execution_count": 48,
      "outputs": [
        {
          "output_type": "execute_result",
          "data": {
            "text/html": [
              "\n",
              "  <div id=\"df-32e413f4-ba26-4b1c-ad40-1bbda7b75178\">\n",
              "    <div class=\"colab-df-container\">\n",
              "      <div>\n",
              "<style scoped>\n",
              "    .dataframe tbody tr th:only-of-type {\n",
              "        vertical-align: middle;\n",
              "    }\n",
              "\n",
              "    .dataframe tbody tr th {\n",
              "        vertical-align: top;\n",
              "    }\n",
              "\n",
              "    .dataframe thead th {\n",
              "        text-align: right;\n",
              "    }\n",
              "</style>\n",
              "<table border=\"1\" class=\"dataframe\">\n",
              "  <thead>\n",
              "    <tr style=\"text-align: right;\">\n",
              "      <th></th>\n",
              "      <th>title</th>\n",
              "      <th>review</th>\n",
              "      <th>kategori</th>\n",
              "    </tr>\n",
              "  </thead>\n",
              "  <tbody>\n",
              "    <tr>\n",
              "      <th>0</th>\n",
              "      <td>NIVEA Creme</td>\n",
              "      <td>kalau beli nivea cream ini dimana ya kayaknya ...</td>\n",
              "      <td>negatif</td>\n",
              "    </tr>\n",
              "    <tr>\n",
              "      <th>1</th>\n",
              "      <td>NIVEA Creme</td>\n",
              "      <td>iya kayaknya emang enggak cocok soalnya semenj...</td>\n",
              "      <td>negatif</td>\n",
              "    </tr>\n",
              "    <tr>\n",
              "      <th>2</th>\n",
              "      <td>NIVEA Creme</td>\n",
              "      <td>NIVEA creme bisa bantu melembapkan bibir dan b...</td>\n",
              "      <td>positif</td>\n",
              "    </tr>\n",
              "    <tr>\n",
              "      <th>3</th>\n",
              "      <td>NIVEA Creme</td>\n",
              "      <td>Senang banget sama nivea creme inih...lembab b...</td>\n",
              "      <td>positif</td>\n",
              "    </tr>\n",
              "    <tr>\n",
              "      <th>4</th>\n",
              "      <td>NIVEA Creme</td>\n",
              "      <td>@hidden Content wah syukur deh cocok jg dipake...</td>\n",
              "      <td>positif</td>\n",
              "    </tr>\n",
              "  </tbody>\n",
              "</table>\n",
              "</div>\n",
              "      <button class=\"colab-df-convert\" onclick=\"convertToInteractive('df-32e413f4-ba26-4b1c-ad40-1bbda7b75178')\"\n",
              "              title=\"Convert this dataframe to an interactive table.\"\n",
              "              style=\"display:none;\">\n",
              "        \n",
              "  <svg xmlns=\"http://www.w3.org/2000/svg\" height=\"24px\"viewBox=\"0 0 24 24\"\n",
              "       width=\"24px\">\n",
              "    <path d=\"M0 0h24v24H0V0z\" fill=\"none\"/>\n",
              "    <path d=\"M18.56 5.44l.94 2.06.94-2.06 2.06-.94-2.06-.94-.94-2.06-.94 2.06-2.06.94zm-11 1L8.5 8.5l.94-2.06 2.06-.94-2.06-.94L8.5 2.5l-.94 2.06-2.06.94zm10 10l.94 2.06.94-2.06 2.06-.94-2.06-.94-.94-2.06-.94 2.06-2.06.94z\"/><path d=\"M17.41 7.96l-1.37-1.37c-.4-.4-.92-.59-1.43-.59-.52 0-1.04.2-1.43.59L10.3 9.45l-7.72 7.72c-.78.78-.78 2.05 0 2.83L4 21.41c.39.39.9.59 1.41.59.51 0 1.02-.2 1.41-.59l7.78-7.78 2.81-2.81c.8-.78.8-2.07 0-2.86zM5.41 20L4 18.59l7.72-7.72 1.47 1.35L5.41 20z\"/>\n",
              "  </svg>\n",
              "      </button>\n",
              "      \n",
              "  <style>\n",
              "    .colab-df-container {\n",
              "      display:flex;\n",
              "      flex-wrap:wrap;\n",
              "      gap: 12px;\n",
              "    }\n",
              "\n",
              "    .colab-df-convert {\n",
              "      background-color: #E8F0FE;\n",
              "      border: none;\n",
              "      border-radius: 50%;\n",
              "      cursor: pointer;\n",
              "      display: none;\n",
              "      fill: #1967D2;\n",
              "      height: 32px;\n",
              "      padding: 0 0 0 0;\n",
              "      width: 32px;\n",
              "    }\n",
              "\n",
              "    .colab-df-convert:hover {\n",
              "      background-color: #E2EBFA;\n",
              "      box-shadow: 0px 1px 2px rgba(60, 64, 67, 0.3), 0px 1px 3px 1px rgba(60, 64, 67, 0.15);\n",
              "      fill: #174EA6;\n",
              "    }\n",
              "\n",
              "    [theme=dark] .colab-df-convert {\n",
              "      background-color: #3B4455;\n",
              "      fill: #D2E3FC;\n",
              "    }\n",
              "\n",
              "    [theme=dark] .colab-df-convert:hover {\n",
              "      background-color: #434B5C;\n",
              "      box-shadow: 0px 1px 3px 1px rgba(0, 0, 0, 0.15);\n",
              "      filter: drop-shadow(0px 1px 2px rgba(0, 0, 0, 0.3));\n",
              "      fill: #FFFFFF;\n",
              "    }\n",
              "  </style>\n",
              "\n",
              "      <script>\n",
              "        const buttonEl =\n",
              "          document.querySelector('#df-32e413f4-ba26-4b1c-ad40-1bbda7b75178 button.colab-df-convert');\n",
              "        buttonEl.style.display =\n",
              "          google.colab.kernel.accessAllowed ? 'block' : 'none';\n",
              "\n",
              "        async function convertToInteractive(key) {\n",
              "          const element = document.querySelector('#df-32e413f4-ba26-4b1c-ad40-1bbda7b75178');\n",
              "          const dataTable =\n",
              "            await google.colab.kernel.invokeFunction('convertToInteractive',\n",
              "                                                     [key], {});\n",
              "          if (!dataTable) return;\n",
              "\n",
              "          const docLinkHtml = 'Like what you see? Visit the ' +\n",
              "            '<a target=\"_blank\" href=https://colab.research.google.com/notebooks/data_table.ipynb>data table notebook</a>'\n",
              "            + ' to learn more about interactive tables.';\n",
              "          element.innerHTML = '';\n",
              "          dataTable['output_type'] = 'display_data';\n",
              "          await google.colab.output.renderOutput(dataTable, element);\n",
              "          const docLink = document.createElement('div');\n",
              "          docLink.innerHTML = docLinkHtml;\n",
              "          element.appendChild(docLink);\n",
              "        }\n",
              "      </script>\n",
              "    </div>\n",
              "  </div>\n",
              "  "
            ],
            "text/plain": [
              "         title                                             review kategori\n",
              "0  NIVEA Creme  kalau beli nivea cream ini dimana ya kayaknya ...  negatif\n",
              "1  NIVEA Creme  iya kayaknya emang enggak cocok soalnya semenj...  negatif\n",
              "2  NIVEA Creme  NIVEA creme bisa bantu melembapkan bibir dan b...  positif\n",
              "3  NIVEA Creme  Senang banget sama nivea creme inih...lembab b...  positif\n",
              "4  NIVEA Creme  @hidden Content wah syukur deh cocok jg dipake...  positif"
            ]
          },
          "metadata": {},
          "execution_count": 48
        }
      ]
    },
    {
      "cell_type": "markdown",
      "source": [
        "Data Cleaning"
      ],
      "metadata": {
        "id": "oDR1xODlWTdq"
      }
    },
    {
      "cell_type": "code",
      "source": [
        "data.shape"
      ],
      "metadata": {
        "colab": {
          "base_uri": "https://localhost:8080/"
        },
        "id": "A6zRiOZRWYS2",
        "outputId": "7fb6deb7-1b70-478c-9252-05000a4efa4a"
      },
      "execution_count": 49,
      "outputs": [
        {
          "output_type": "execute_result",
          "data": {
            "text/plain": [
              "(1259, 3)"
            ]
          },
          "metadata": {},
          "execution_count": 49
        }
      ]
    },
    {
      "cell_type": "code",
      "source": [
        "data.duplicated().sum()"
      ],
      "metadata": {
        "colab": {
          "base_uri": "https://localhost:8080/"
        },
        "id": "2MlyA_4NXBPB",
        "outputId": "fdba0dc5-082c-4a2d-c7a6-77bd0373df9d"
      },
      "execution_count": 50,
      "outputs": [
        {
          "output_type": "execute_result",
          "data": {
            "text/plain": [
              "6"
            ]
          },
          "metadata": {},
          "execution_count": 50
        }
      ]
    },
    {
      "cell_type": "code",
      "source": [
        "data.isna().sum()"
      ],
      "metadata": {
        "colab": {
          "base_uri": "https://localhost:8080/"
        },
        "id": "PRgfCvMgWeCt",
        "outputId": "555df66d-9830-4726-f912-8e6b61d647ed"
      },
      "execution_count": 51,
      "outputs": [
        {
          "output_type": "execute_result",
          "data": {
            "text/plain": [
              "title       0\n",
              "review      0\n",
              "kategori    0\n",
              "dtype: int64"
            ]
          },
          "metadata": {},
          "execution_count": 51
        }
      ]
    },
    {
      "cell_type": "code",
      "source": [
        "data.dropna().sum()"
      ],
      "metadata": {
        "colab": {
          "base_uri": "https://localhost:8080/"
        },
        "id": "hpg2GelUXNwa",
        "outputId": "8e67c526-5ff9-4a9f-e839-918f5fdc590b"
      },
      "execution_count": 52,
      "outputs": [
        {
          "output_type": "execute_result",
          "data": {
            "text/plain": [
              "title       NIVEA CremeNIVEA CremeNIVEA CremeNIVEA CremeNI...\n",
              "review      kalau beli nivea cream ini dimana ya kayaknya ...\n",
              "kategori    negatifnegatifpositifpositifpositifnegatifposi...\n",
              "dtype: object"
            ]
          },
          "metadata": {},
          "execution_count": 52
        }
      ]
    },
    {
      "cell_type": "code",
      "source": [
        "def regex(text):\n",
        "  #Removing mention & hashtag\n",
        "  username = re.sub(r\"@(\\w+)\",\" \", text, flags = re.I)\n",
        "  hashtag = re.sub(r\"#(\\w+)\",\" \", username, flags = re.I)\n",
        "  #Removing characters\n",
        "  #chara = re.sub(r\"[<,`+~'!^&?\\\".=@*/$%_:;()->]\",\" \", hashtag, flags=re.I)\n",
        "  tanda = re.sub (r\"\\W\", \" \",hashtag, flags=re.I )\n",
        "  number = re.sub (r\"\\d\", \" \",tanda, flags=re.I )\n",
        "  #removing single character\n",
        "  #single = re.sub(r\"\\s+[a-zA-Z]\\s+\",\" \", chara, flags = re.I)\n",
        "  single = re.sub(r\"\\b[a-zA-Z]\\b\",\" \", number, flags = re.I)\n",
        "  #Substituting multiple spaces with single space\n",
        "  spaces = re.sub(r\"\\s+\",\" \", single, flags = re.I)\n",
        "  # --- Case Folding ---\n",
        "  text = spaces.lower()\n",
        "  return text"
      ],
      "metadata": {
        "id": "SFmDnvfdXaiQ"
      },
      "execution_count": 53,
      "outputs": []
    },
    {
      "cell_type": "code",
      "source": [
        "data['review'] = data['review'].apply(regex)\n",
        "data.head()"
      ],
      "metadata": {
        "colab": {
          "base_uri": "https://localhost:8080/",
          "height": 206
        },
        "id": "A3Y_MHhoXlLo",
        "outputId": "e71a4536-753f-4c4b-bf37-a7d40543922b"
      },
      "execution_count": 54,
      "outputs": [
        {
          "output_type": "execute_result",
          "data": {
            "text/html": [
              "\n",
              "  <div id=\"df-5a4c7f5b-9e1b-498b-9e56-c875c5c34d39\">\n",
              "    <div class=\"colab-df-container\">\n",
              "      <div>\n",
              "<style scoped>\n",
              "    .dataframe tbody tr th:only-of-type {\n",
              "        vertical-align: middle;\n",
              "    }\n",
              "\n",
              "    .dataframe tbody tr th {\n",
              "        vertical-align: top;\n",
              "    }\n",
              "\n",
              "    .dataframe thead th {\n",
              "        text-align: right;\n",
              "    }\n",
              "</style>\n",
              "<table border=\"1\" class=\"dataframe\">\n",
              "  <thead>\n",
              "    <tr style=\"text-align: right;\">\n",
              "      <th></th>\n",
              "      <th>title</th>\n",
              "      <th>review</th>\n",
              "      <th>kategori</th>\n",
              "    </tr>\n",
              "  </thead>\n",
              "  <tbody>\n",
              "    <tr>\n",
              "      <th>0</th>\n",
              "      <td>NIVEA Creme</td>\n",
              "      <td>kalau beli nivea cream ini dimana ya kayaknya ...</td>\n",
              "      <td>negatif</td>\n",
              "    </tr>\n",
              "    <tr>\n",
              "      <th>1</th>\n",
              "      <td>NIVEA Creme</td>\n",
              "      <td>iya kayaknya emang enggak cocok soalnya semenj...</td>\n",
              "      <td>negatif</td>\n",
              "    </tr>\n",
              "    <tr>\n",
              "      <th>2</th>\n",
              "      <td>NIVEA Creme</td>\n",
              "      <td>nivea creme bisa bantu melembapkan bibir dan b...</td>\n",
              "      <td>positif</td>\n",
              "    </tr>\n",
              "    <tr>\n",
              "      <th>3</th>\n",
              "      <td>NIVEA Creme</td>\n",
              "      <td>senang banget sama nivea creme inih lembab bgt...</td>\n",
              "      <td>positif</td>\n",
              "    </tr>\n",
              "    <tr>\n",
              "      <th>4</th>\n",
              "      <td>NIVEA Creme</td>\n",
              "      <td>content wah syukur deh cocok jg dipake masker...</td>\n",
              "      <td>positif</td>\n",
              "    </tr>\n",
              "  </tbody>\n",
              "</table>\n",
              "</div>\n",
              "      <button class=\"colab-df-convert\" onclick=\"convertToInteractive('df-5a4c7f5b-9e1b-498b-9e56-c875c5c34d39')\"\n",
              "              title=\"Convert this dataframe to an interactive table.\"\n",
              "              style=\"display:none;\">\n",
              "        \n",
              "  <svg xmlns=\"http://www.w3.org/2000/svg\" height=\"24px\"viewBox=\"0 0 24 24\"\n",
              "       width=\"24px\">\n",
              "    <path d=\"M0 0h24v24H0V0z\" fill=\"none\"/>\n",
              "    <path d=\"M18.56 5.44l.94 2.06.94-2.06 2.06-.94-2.06-.94-.94-2.06-.94 2.06-2.06.94zm-11 1L8.5 8.5l.94-2.06 2.06-.94-2.06-.94L8.5 2.5l-.94 2.06-2.06.94zm10 10l.94 2.06.94-2.06 2.06-.94-2.06-.94-.94-2.06-.94 2.06-2.06.94z\"/><path d=\"M17.41 7.96l-1.37-1.37c-.4-.4-.92-.59-1.43-.59-.52 0-1.04.2-1.43.59L10.3 9.45l-7.72 7.72c-.78.78-.78 2.05 0 2.83L4 21.41c.39.39.9.59 1.41.59.51 0 1.02-.2 1.41-.59l7.78-7.78 2.81-2.81c.8-.78.8-2.07 0-2.86zM5.41 20L4 18.59l7.72-7.72 1.47 1.35L5.41 20z\"/>\n",
              "  </svg>\n",
              "      </button>\n",
              "      \n",
              "  <style>\n",
              "    .colab-df-container {\n",
              "      display:flex;\n",
              "      flex-wrap:wrap;\n",
              "      gap: 12px;\n",
              "    }\n",
              "\n",
              "    .colab-df-convert {\n",
              "      background-color: #E8F0FE;\n",
              "      border: none;\n",
              "      border-radius: 50%;\n",
              "      cursor: pointer;\n",
              "      display: none;\n",
              "      fill: #1967D2;\n",
              "      height: 32px;\n",
              "      padding: 0 0 0 0;\n",
              "      width: 32px;\n",
              "    }\n",
              "\n",
              "    .colab-df-convert:hover {\n",
              "      background-color: #E2EBFA;\n",
              "      box-shadow: 0px 1px 2px rgba(60, 64, 67, 0.3), 0px 1px 3px 1px rgba(60, 64, 67, 0.15);\n",
              "      fill: #174EA6;\n",
              "    }\n",
              "\n",
              "    [theme=dark] .colab-df-convert {\n",
              "      background-color: #3B4455;\n",
              "      fill: #D2E3FC;\n",
              "    }\n",
              "\n",
              "    [theme=dark] .colab-df-convert:hover {\n",
              "      background-color: #434B5C;\n",
              "      box-shadow: 0px 1px 3px 1px rgba(0, 0, 0, 0.15);\n",
              "      filter: drop-shadow(0px 1px 2px rgba(0, 0, 0, 0.3));\n",
              "      fill: #FFFFFF;\n",
              "    }\n",
              "  </style>\n",
              "\n",
              "      <script>\n",
              "        const buttonEl =\n",
              "          document.querySelector('#df-5a4c7f5b-9e1b-498b-9e56-c875c5c34d39 button.colab-df-convert');\n",
              "        buttonEl.style.display =\n",
              "          google.colab.kernel.accessAllowed ? 'block' : 'none';\n",
              "\n",
              "        async function convertToInteractive(key) {\n",
              "          const element = document.querySelector('#df-5a4c7f5b-9e1b-498b-9e56-c875c5c34d39');\n",
              "          const dataTable =\n",
              "            await google.colab.kernel.invokeFunction('convertToInteractive',\n",
              "                                                     [key], {});\n",
              "          if (!dataTable) return;\n",
              "\n",
              "          const docLinkHtml = 'Like what you see? Visit the ' +\n",
              "            '<a target=\"_blank\" href=https://colab.research.google.com/notebooks/data_table.ipynb>data table notebook</a>'\n",
              "            + ' to learn more about interactive tables.';\n",
              "          element.innerHTML = '';\n",
              "          dataTable['output_type'] = 'display_data';\n",
              "          await google.colab.output.renderOutput(dataTable, element);\n",
              "          const docLink = document.createElement('div');\n",
              "          docLink.innerHTML = docLinkHtml;\n",
              "          element.appendChild(docLink);\n",
              "        }\n",
              "      </script>\n",
              "    </div>\n",
              "  </div>\n",
              "  "
            ],
            "text/plain": [
              "         title                                             review kategori\n",
              "0  NIVEA Creme  kalau beli nivea cream ini dimana ya kayaknya ...  negatif\n",
              "1  NIVEA Creme  iya kayaknya emang enggak cocok soalnya semenj...  negatif\n",
              "2  NIVEA Creme  nivea creme bisa bantu melembapkan bibir dan b...  positif\n",
              "3  NIVEA Creme  senang banget sama nivea creme inih lembab bgt...  positif\n",
              "4  NIVEA Creme   content wah syukur deh cocok jg dipake masker...  positif"
            ]
          },
          "metadata": {},
          "execution_count": 54
        }
      ]
    },
    {
      "cell_type": "code",
      "source": [
        "re_stopword = pd.DataFrame(data['review'])\n",
        "re_stopword.to_csv(\"/content/drive/My Drive/Project/Thesis/result/casefolding.csv\", sep= ',')"
      ],
      "metadata": {
        "id": "yA5SeabhYLDU"
      },
      "execution_count": 55,
      "outputs": []
    },
    {
      "cell_type": "markdown",
      "source": [
        "Formalize"
      ],
      "metadata": {
        "id": "8Z2MCgBBY3co"
      }
    },
    {
      "cell_type": "code",
      "source": [
        "#colloquial loading\n",
        "def get_lookup():\n",
        "  df = pd.read_csv(\"/content/drive/My Drive/Project/Thesis/dictionary.csv\")\n",
        "  df_record = df.to_dict('records')\n",
        "  return {  entry['slang']: entry['formal'] for entry in df_record}"
      ],
      "metadata": {
        "id": "c1qvHpo8Xni4"
      },
      "execution_count": 56,
      "outputs": []
    },
    {
      "cell_type": "code",
      "source": [
        "lookup = get_lookup()"
      ],
      "metadata": {
        "id": "8jhnGKmKXrui"
      },
      "execution_count": 57,
      "outputs": []
    },
    {
      "cell_type": "code",
      "source": [
        "def formalize(text):\n",
        "  text = nltk.tokenize.word_tokenize(text)\n",
        "  #print(text)\n",
        "  formalized = [lookup[token] if token in lookup else token for token in text]\n",
        "   #print(lookup) \n",
        "  if formalized:\n",
        "    re_tokens = formalized\n",
        "  else:\n",
        "    re_tokens = text\n",
        "  freq_tokens = nltk.FreqDist(formalized)\n",
        "\n",
        "  #mword = tk.tokenize(freq_tokens)\n",
        "  return \" \".join(freq_tokens)"
      ],
      "metadata": {
        "id": "dySBHBAVY2jU"
      },
      "execution_count": 58,
      "outputs": []
    },
    {
      "cell_type": "code",
      "source": [
        "data['review_formalize'] = data['review'].apply(formalize)\n",
        "data.head()"
      ],
      "metadata": {
        "colab": {
          "base_uri": "https://localhost:8080/",
          "height": 206
        },
        "id": "QeCw2i4eZCw4",
        "outputId": "9279d3c8-6b72-461b-c2c6-53509471e0fe"
      },
      "execution_count": 59,
      "outputs": [
        {
          "output_type": "execute_result",
          "data": {
            "text/html": [
              "\n",
              "  <div id=\"df-860f5f18-570d-4ab9-90ac-8b05326a0ecc\">\n",
              "    <div class=\"colab-df-container\">\n",
              "      <div>\n",
              "<style scoped>\n",
              "    .dataframe tbody tr th:only-of-type {\n",
              "        vertical-align: middle;\n",
              "    }\n",
              "\n",
              "    .dataframe tbody tr th {\n",
              "        vertical-align: top;\n",
              "    }\n",
              "\n",
              "    .dataframe thead th {\n",
              "        text-align: right;\n",
              "    }\n",
              "</style>\n",
              "<table border=\"1\" class=\"dataframe\">\n",
              "  <thead>\n",
              "    <tr style=\"text-align: right;\">\n",
              "      <th></th>\n",
              "      <th>title</th>\n",
              "      <th>review</th>\n",
              "      <th>kategori</th>\n",
              "      <th>review_formalize</th>\n",
              "    </tr>\n",
              "  </thead>\n",
              "  <tbody>\n",
              "    <tr>\n",
              "      <th>0</th>\n",
              "      <td>NIVEA Creme</td>\n",
              "      <td>kalau beli nivea cream ini dimana ya kayaknya ...</td>\n",
              "      <td>negatif</td>\n",
              "      <td>kalau beli nivea krim ini di mana ya sepertiny...</td>\n",
              "    </tr>\n",
              "    <tr>\n",
              "      <th>1</th>\n",
              "      <td>NIVEA Creme</td>\n",
              "      <td>iya kayaknya emang enggak cocok soalnya semenj...</td>\n",
              "      <td>negatif</td>\n",
              "      <td>iya sepertinya memang enggak cocok soalnya sem...</td>\n",
              "    </tr>\n",
              "    <tr>\n",
              "      <th>2</th>\n",
              "      <td>NIVEA Creme</td>\n",
              "      <td>nivea creme bisa bantu melembapkan bibir dan b...</td>\n",
              "      <td>positif</td>\n",
              "      <td>nivea creme bisa bantu melembapkan bibir dan b...</td>\n",
              "    </tr>\n",
              "    <tr>\n",
              "      <th>3</th>\n",
              "      <td>NIVEA Creme</td>\n",
              "      <td>senang banget sama nivea creme inih lembab bgt...</td>\n",
              "      <td>positif</td>\n",
              "      <td>senang banget sama nivea creme ini lembap buat...</td>\n",
              "    </tr>\n",
              "    <tr>\n",
              "      <th>4</th>\n",
              "      <td>NIVEA Creme</td>\n",
              "      <td>content wah syukur deh cocok jg dipake masker...</td>\n",
              "      <td>positif</td>\n",
              "      <td>content wah syukur deh cocok juga dipakai mask...</td>\n",
              "    </tr>\n",
              "  </tbody>\n",
              "</table>\n",
              "</div>\n",
              "      <button class=\"colab-df-convert\" onclick=\"convertToInteractive('df-860f5f18-570d-4ab9-90ac-8b05326a0ecc')\"\n",
              "              title=\"Convert this dataframe to an interactive table.\"\n",
              "              style=\"display:none;\">\n",
              "        \n",
              "  <svg xmlns=\"http://www.w3.org/2000/svg\" height=\"24px\"viewBox=\"0 0 24 24\"\n",
              "       width=\"24px\">\n",
              "    <path d=\"M0 0h24v24H0V0z\" fill=\"none\"/>\n",
              "    <path d=\"M18.56 5.44l.94 2.06.94-2.06 2.06-.94-2.06-.94-.94-2.06-.94 2.06-2.06.94zm-11 1L8.5 8.5l.94-2.06 2.06-.94-2.06-.94L8.5 2.5l-.94 2.06-2.06.94zm10 10l.94 2.06.94-2.06 2.06-.94-2.06-.94-.94-2.06-.94 2.06-2.06.94z\"/><path d=\"M17.41 7.96l-1.37-1.37c-.4-.4-.92-.59-1.43-.59-.52 0-1.04.2-1.43.59L10.3 9.45l-7.72 7.72c-.78.78-.78 2.05 0 2.83L4 21.41c.39.39.9.59 1.41.59.51 0 1.02-.2 1.41-.59l7.78-7.78 2.81-2.81c.8-.78.8-2.07 0-2.86zM5.41 20L4 18.59l7.72-7.72 1.47 1.35L5.41 20z\"/>\n",
              "  </svg>\n",
              "      </button>\n",
              "      \n",
              "  <style>\n",
              "    .colab-df-container {\n",
              "      display:flex;\n",
              "      flex-wrap:wrap;\n",
              "      gap: 12px;\n",
              "    }\n",
              "\n",
              "    .colab-df-convert {\n",
              "      background-color: #E8F0FE;\n",
              "      border: none;\n",
              "      border-radius: 50%;\n",
              "      cursor: pointer;\n",
              "      display: none;\n",
              "      fill: #1967D2;\n",
              "      height: 32px;\n",
              "      padding: 0 0 0 0;\n",
              "      width: 32px;\n",
              "    }\n",
              "\n",
              "    .colab-df-convert:hover {\n",
              "      background-color: #E2EBFA;\n",
              "      box-shadow: 0px 1px 2px rgba(60, 64, 67, 0.3), 0px 1px 3px 1px rgba(60, 64, 67, 0.15);\n",
              "      fill: #174EA6;\n",
              "    }\n",
              "\n",
              "    [theme=dark] .colab-df-convert {\n",
              "      background-color: #3B4455;\n",
              "      fill: #D2E3FC;\n",
              "    }\n",
              "\n",
              "    [theme=dark] .colab-df-convert:hover {\n",
              "      background-color: #434B5C;\n",
              "      box-shadow: 0px 1px 3px 1px rgba(0, 0, 0, 0.15);\n",
              "      filter: drop-shadow(0px 1px 2px rgba(0, 0, 0, 0.3));\n",
              "      fill: #FFFFFF;\n",
              "    }\n",
              "  </style>\n",
              "\n",
              "      <script>\n",
              "        const buttonEl =\n",
              "          document.querySelector('#df-860f5f18-570d-4ab9-90ac-8b05326a0ecc button.colab-df-convert');\n",
              "        buttonEl.style.display =\n",
              "          google.colab.kernel.accessAllowed ? 'block' : 'none';\n",
              "\n",
              "        async function convertToInteractive(key) {\n",
              "          const element = document.querySelector('#df-860f5f18-570d-4ab9-90ac-8b05326a0ecc');\n",
              "          const dataTable =\n",
              "            await google.colab.kernel.invokeFunction('convertToInteractive',\n",
              "                                                     [key], {});\n",
              "          if (!dataTable) return;\n",
              "\n",
              "          const docLinkHtml = 'Like what you see? Visit the ' +\n",
              "            '<a target=\"_blank\" href=https://colab.research.google.com/notebooks/data_table.ipynb>data table notebook</a>'\n",
              "            + ' to learn more about interactive tables.';\n",
              "          element.innerHTML = '';\n",
              "          dataTable['output_type'] = 'display_data';\n",
              "          await google.colab.output.renderOutput(dataTable, element);\n",
              "          const docLink = document.createElement('div');\n",
              "          docLink.innerHTML = docLinkHtml;\n",
              "          element.appendChild(docLink);\n",
              "        }\n",
              "      </script>\n",
              "    </div>\n",
              "  </div>\n",
              "  "
            ],
            "text/plain": [
              "         title  ...                                   review_formalize\n",
              "0  NIVEA Creme  ...  kalau beli nivea krim ini di mana ya sepertiny...\n",
              "1  NIVEA Creme  ...  iya sepertinya memang enggak cocok soalnya sem...\n",
              "2  NIVEA Creme  ...  nivea creme bisa bantu melembapkan bibir dan b...\n",
              "3  NIVEA Creme  ...  senang banget sama nivea creme ini lembap buat...\n",
              "4  NIVEA Creme  ...  content wah syukur deh cocok juga dipakai mask...\n",
              "\n",
              "[5 rows x 4 columns]"
            ]
          },
          "metadata": {},
          "execution_count": 59
        }
      ]
    },
    {
      "cell_type": "code",
      "source": [
        "re_stopword = pd.DataFrame(data['review_formalize'])\n",
        "re_stopword.to_csv(\"/content/drive/My Drive/Project/Thesis/result/formalize.csv\", sep= ',')\n",
        "#re_stopword.get_features"
      ],
      "metadata": {
        "id": "d3Qa5sqeZTZZ"
      },
      "execution_count": 60,
      "outputs": []
    },
    {
      "cell_type": "markdown",
      "source": [
        "First Tokenizing"
      ],
      "metadata": {
        "id": "25F_8dtyZoO2"
      }
    },
    {
      "cell_type": "code",
      "source": [
        "def tokenize(text):\n",
        "  tk = MWETokenizer([('enggak','ada','palsunya'),('enggak','ada','efek','sampingnya'),('enggak','ada','efek','jelek'),('enggak','perlu','kerja','tambahan'),('enggak','perlu','di','ragukan'),('enggak','ada','reaksi','negatif'),\n",
        "                     ('bekerja','keras','mengeluarkan','kotoran'),('menghilangkan','jerawat','minyak'),('komedo','hitam'),('komedo','putih'),('semua','kotoran'),('mengangkat','kotoran'),('enggak','ada','yang','cocok'),\n",
        "                     ('kadaluwarsa','enggak','ada'),('pohon','minyak'),('engga','kecewa'),('tidak','mengecewakan'),('tidak','memperbaiki','tekstur'),('tidak','hilang'),('komedo','menghilang'),('mengurangi','tambang','minyak'),('jerawat','enggak','tumbuh'),('tipe','kulit','berminyak'),\n",
        "\n",
        "                     ('enggak','terlihat','jerawatnya'),('enggak','begitu','ampuh'),('enggak','ada','lengket'),('enggak','ada','perubahan'),('belum','ada','perubahan'),('enggak','buat','breakout'),('enggak','bikin','breakout'),('enggak','pernah','separah'),('enggak','memakai','sunscreen'),\n",
        "                     ('enggak','terlalu','berminyak'),('enggak','akan','sesakit'),('enggak','akan','sakit'),('enggak','begitu','kering'),('enggak','begitu','berminyak'),('tanpa','bikin','breakout'),('enggak','pernah','breakout'),('enggak','pernah','jerawatan'),\n",
        "                     ('enggak','jadi','tambang','minyak'),('enggak','jadi','jerawat'),('enggak','sempat','regenerasi'),('enggak','lagi','bermasalah'),('belum','ada','efek'),\n",
        "                     ('enggak','perlu','diragukan'),('enggak','ada','kerutan'),('enggak','ingin','rugi'),('enggak','berasa','gerah'),('enggak','bikin','beruntusan'),('enggak','bikin','keset'),\n",
        "                     ('enggak','kelihatan'),('enggak','terlihat'),('enggak','ada','gatal'),('enggak','ingin','keluar'),('enggak','terlalu','susah'),\n",
        "                     ('enggak','bisa','menghilangkan'),('enggak','ada','masalah'),('enggak','terlalu','minyakan'),('ke','punggung','enggak'),('jerawatan','juga','enggak'),\n",
        "                     ('sudah','lama','enggak'),('enggak','bisa','berhenti'),('enggak','begitu','dianjurkan'),('enggak','ada','jerawat'),\n",
        "                     ('enggak','terlalu','beda'),('enggak','cuma','wajah'),('enggak','dua','kali'),('enggak','terlalu','kering'),('enggak','pernah','cocok'),\n",
        "                     ('enggak','ketergantungan'),('enggak','ingin','pakai'),('enggak','terlalu','berefek'),('enggak','begitu','ampuh'),('enggak','bisa','hilang'),\n",
        "                     ('beruntus','enggak','berisi'),('enggak','berrasa','lengket'),('beruntus','enggak','hilang'),('tidak','ada','perubahan'),\n",
        "                     ('tidak','mengandung','merkuri'),('tidak','keluar','jerawat'),('jerawat','cepat','hilang'),('kurang','percaya','diri'),('percaya','diri'),\n",
        "                     ('enggak','hilang'),('dasar','kulit','kebal'),('rambut','rontok','berkurang'),('ada','bekas','jerawat'),\n",
        "                     ('jerawat','jadi','hilang'),('jerawat','susah','hilang'),('jerawat','pada','keluar'),('mengurangi','kerut'),('enggak','sembuh'),\n",
        "                     ('jerawat','pada','kering'),('belum','hilang'),('belum','menghilang'),('jerawatku','sudah','pudar'),('minyak','menghilang'),\n",
        "                     ('jarang','muncul'),('kempis','kering'),('jerawat','jadi','gede'),('enggak','meresap','sempurna'),('musim','dingin'),('tidak','murah'),\n",
        "                     ('komedo','lumayan','bersih'),('malu','buat','perawatan'),('ketombe','tambah','banyak'),('mengurangi','rambut','rontok'),('tahan','air'),\n",
        "                     ('mudah','dipalsu'),('jerawat','cepat','kempis'),('belum','terlalu','berefek'),('luar','biasa','kering'),('jerawat','masih','ada'),('enggak','ada','alkoholnya'),                     \n",
        "\n",
        "                     ('tidak','sehitam'),('enggak','manjur'),('enggak','menyedot'),('enggak','lengket'),('enggak','suka'),('enggak','jelas'),('enggak','jodoh'),('enggak','ganggu'),('enggak','merasakan'),('enggak','kecium'),\n",
        "                     ('enggak','kering'),('enggak','pahit'),('enggak','berminyak'),('enggak','berani'),('enggak','belang'),('enggak','lanjut'),('enggak','banget'),('enggak','gatal'),\n",
        "                      ('enggak','hilang'),('enggak','iritasi'),('enggak','jual'),('tahu','enggak'),('enggak','sukanya'),('enggak','bisa'),('enggak','kombinasi'),('enggak','mengefek'),\n",
        "                     ('enggak','meninggalkan'),('enggak','alkohol'),('enggak','perih'),('enggak','sadar'),('enggak','tahu'),('enggak','ingin'),('enggak','rontok'),('enggak','apa'),\n",
        "                     ('enggak','berefek'),('enggak','cocok'),('enggak','sembuh'),('enggak','gumpal'),('enggak','sabar'),('enggak','datang'),('enggak','mengecewakan'),('kurang','cocok'),\n",
        "                     ('enggak','ada'),('enggak','jerawatan'),('enggak','salah'),('enggak','berlebihan'),('enggak','beranjak'),('enggak','nyaman'),('kurang','efektif'),\n",
        "                     ('enggak','diragukan'),('enggak','berbahaya'),('enggak','minyakan'),('enggak','menyengat'),('enggak','semahal'),('enggak','boleh'),('enggak','kusam'),\n",
        "                     ('enggak','banjir'),('enggak','terawat'),('enggak','pernah'),('enggak','rata'),('enggak','bermasalah'),('enggak','bagus'),('enggak','sekeras'),('agak','kurang'),\n",
        "                     ('enggak','lagi'),('enggak','masalah'),('enggak','berdenyut'),('takut','kering'),('enggak','mempengaruhi'),('enggak','repot'),('enggak','breakout'),\n",
        "                     ('enggak','lama'),('enggak','berbulir'),('enggak','dipakai'),('enggak','karuan'),('enggak','apa-apa'),('enggak','berrasa'),('enggak','juga'),('banyak','jerawat'),\n",
        "                     ('enggak','bergumpal'),('enggak','lama'),('enggak','mahal'),('enggak','sakitnya'),('enggak','menyesal'),('enggak','habis'),('enggak','merah'),('enggak','ya'),\n",
        "                     ('enggak','enak'),('enggak','mempan'),('enggak','bau'),('enggak','gatal'),('enggak','kasar'),('enggak','mengganggu'),('enggak','menyerap'),('kurang','lebih'),\n",
        "                     ('enggak','cocoknya'),('enggak','menghitam'),('enggak','pakai'),('enggak','beruntusan'),('enggak','instan'),('boleh','enggak'),('enggak','kuat'),('enggak','menimbulkan'),\n",
        "                     ('enggak','seekstrem'),('enggak','kerasa'),('enggak','tahan'),('timbul','jerawat'),('komedo','hilang'),('ingin','mencoba'),('mengandung','merkuri'),('kering','jerawat'),('banyak','komedo'),\n",
        "                     ('enggak','pecah'),('kilang','minyak'),('jadi','beruntusan'),('jerawat','bernanah'),('jerawatpun','timbul'),('kurang','rajin'),('batal','mencari'),\n",
        "                     ('tidak','boleh'),('tidak','merekomendasikan'),('tidak','mempengaruhi'),('membersihkan','susah'),('susah','membersihkan'),('jadi','jerawat'),('cukup','oke'),\n",
        "                     ('non','logam'),('kurang','mantap'),('asli','hancur'),('komedo','berkurang'),('bikin','jerawatan'),('hilang','jerawatnya'),('kurang','nendang'),('beruntusan','hilang'),\n",
        "                     ('kurang','nampol'),('bikin','breakout'),('cepat','berminyak'),('sangat','berminyak'),('bersih','porinya'),('kulit','berminyak'),('ingin','coba'),('kurang','suka'),\n",
        "                     ('beruntusan','parah'),('cepat','kering'),('tumbuh','jerawat'),('tidak','berefek'),('malah','jerawatan'),('suka','banget'),('susah','mengangkat'),('kurang','lama'),('suka','berminyak'),\n",
        "                     ('kurang','angkat'),('kontrol','minyak'),('makin','parah'),('makin','berminyak'),('cara','membersihkan'),('mengurangi','minyak'),('menghilangkan','minyak'),('berrasa','kering'),('menghilangkan','kusam'),\n",
        "                     ('putih','tembok'),('jarang','jerawatan'),('nambah','jerawat'),('keluar','jerawat'),('rambut','rontok'),('kulit','cerah'),('jerawat','kalem'),('mengempiskan','jerawat'),('kusam','jerawatan'),\n",
        "                     ('belum','kerasa'),('belum','berrasa'),('suka','tersiksa'),('jerawatan','banget'),('mengkeringkan','jerawat'),('menyembuhkan','breakout'),('terima','kasih'),('kempis','jerawat'),('kulit','kering'),('berkurang','minyaknya'),\n",
        "                     ('berminyak','parah'),('jerawat','kabur'),('minyak','lenyap'),('kurang','minyak'),('oke','banget'),('jerawat','mengecil'),('jerawat','kering'),('jadi','jerawatan'),('mencegah','jerawat'),\n",
        "                     ('lidah','buaya'),('lebih','susah'),('lebih','enak'),('enak','adem'),('yang','enak'),('habis','enak'),('enak','meratakannya'),('enak','banget'),('menghilangkan','jerawat'),('jerawat','tumbuh'),\n",
        "                     ('menambah','jerawat'),('jerawat','kempis'),('jerawat','baru'),('kontrol','jerawat'),('cepat','keringnya'),('muncul','jerawat'),('kulit','sensitif'),('jerawat','hilang'),('belum','bersih'),\n",
        "                     ('sari','ayu'),('berat','badan'),('beruntusan','jadinya'),('belum','pernah'),('kurang','enaknya'),('kurang','enak'),('flek','hitam'),('minyak','hilang'),('tambang','minyak'),('pohon','minyak'),('merah','muda'),\n",
        "                     ('bebas','kerut'),('bebas','minyak'),('cuka','apel'),('berapa','lama'),('bekas','belang'),('sendok','pelastik'),('bau','busuk'),('bekas','jerawat'), ('bikin','jerawat'),])\n",
        "  text = tk.tokenize(text.split())\n",
        "  #print(text)\n",
        "  return \" \".join(text)"
      ],
      "metadata": {
        "id": "kXSprjSwZP3e"
      },
      "execution_count": 61,
      "outputs": []
    },
    {
      "cell_type": "code",
      "source": [
        "data['review_tokenize'] = data['review_formalize'].apply(tokenize)\n",
        "data.head()"
      ],
      "metadata": {
        "colab": {
          "base_uri": "https://localhost:8080/",
          "height": 206
        },
        "id": "3CnK60s1ZfrW",
        "outputId": "a05f1066-a1a6-4dd9-9511-e3daed622966"
      },
      "execution_count": 62,
      "outputs": [
        {
          "output_type": "execute_result",
          "data": {
            "text/html": [
              "\n",
              "  <div id=\"df-159cccb5-a7ee-40a1-8694-1395fae4047e\">\n",
              "    <div class=\"colab-df-container\">\n",
              "      <div>\n",
              "<style scoped>\n",
              "    .dataframe tbody tr th:only-of-type {\n",
              "        vertical-align: middle;\n",
              "    }\n",
              "\n",
              "    .dataframe tbody tr th {\n",
              "        vertical-align: top;\n",
              "    }\n",
              "\n",
              "    .dataframe thead th {\n",
              "        text-align: right;\n",
              "    }\n",
              "</style>\n",
              "<table border=\"1\" class=\"dataframe\">\n",
              "  <thead>\n",
              "    <tr style=\"text-align: right;\">\n",
              "      <th></th>\n",
              "      <th>title</th>\n",
              "      <th>review</th>\n",
              "      <th>kategori</th>\n",
              "      <th>review_formalize</th>\n",
              "      <th>review_tokenize</th>\n",
              "    </tr>\n",
              "  </thead>\n",
              "  <tbody>\n",
              "    <tr>\n",
              "      <th>0</th>\n",
              "      <td>NIVEA Creme</td>\n",
              "      <td>kalau beli nivea cream ini dimana ya kayaknya ...</td>\n",
              "      <td>negatif</td>\n",
              "      <td>kalau beli nivea krim ini di mana ya sepertiny...</td>\n",
              "      <td>kalau beli nivea krim ini di mana ya sepertiny...</td>\n",
              "    </tr>\n",
              "    <tr>\n",
              "      <th>1</th>\n",
              "      <td>NIVEA Creme</td>\n",
              "      <td>iya kayaknya emang enggak cocok soalnya semenj...</td>\n",
              "      <td>negatif</td>\n",
              "      <td>iya sepertinya memang enggak cocok soalnya sem...</td>\n",
              "      <td>iya sepertinya memang enggak_cocok soalnya sem...</td>\n",
              "    </tr>\n",
              "    <tr>\n",
              "      <th>2</th>\n",
              "      <td>NIVEA Creme</td>\n",
              "      <td>nivea creme bisa bantu melembapkan bibir dan b...</td>\n",
              "      <td>positif</td>\n",
              "      <td>nivea creme bisa bantu melembapkan bibir dan b...</td>\n",
              "      <td>nivea creme bisa bantu melembapkan bibir dan b...</td>\n",
              "    </tr>\n",
              "    <tr>\n",
              "      <th>3</th>\n",
              "      <td>NIVEA Creme</td>\n",
              "      <td>senang banget sama nivea creme inih lembab bgt...</td>\n",
              "      <td>positif</td>\n",
              "      <td>senang banget sama nivea creme ini lembap buat...</td>\n",
              "      <td>senang banget sama nivea creme ini lembap buat...</td>\n",
              "    </tr>\n",
              "    <tr>\n",
              "      <th>4</th>\n",
              "      <td>NIVEA Creme</td>\n",
              "      <td>content wah syukur deh cocok jg dipake masker...</td>\n",
              "      <td>positif</td>\n",
              "      <td>content wah syukur deh cocok juga dipakai mask...</td>\n",
              "      <td>content wah syukur deh cocok juga dipakai mask...</td>\n",
              "    </tr>\n",
              "  </tbody>\n",
              "</table>\n",
              "</div>\n",
              "      <button class=\"colab-df-convert\" onclick=\"convertToInteractive('df-159cccb5-a7ee-40a1-8694-1395fae4047e')\"\n",
              "              title=\"Convert this dataframe to an interactive table.\"\n",
              "              style=\"display:none;\">\n",
              "        \n",
              "  <svg xmlns=\"http://www.w3.org/2000/svg\" height=\"24px\"viewBox=\"0 0 24 24\"\n",
              "       width=\"24px\">\n",
              "    <path d=\"M0 0h24v24H0V0z\" fill=\"none\"/>\n",
              "    <path d=\"M18.56 5.44l.94 2.06.94-2.06 2.06-.94-2.06-.94-.94-2.06-.94 2.06-2.06.94zm-11 1L8.5 8.5l.94-2.06 2.06-.94-2.06-.94L8.5 2.5l-.94 2.06-2.06.94zm10 10l.94 2.06.94-2.06 2.06-.94-2.06-.94-.94-2.06-.94 2.06-2.06.94z\"/><path d=\"M17.41 7.96l-1.37-1.37c-.4-.4-.92-.59-1.43-.59-.52 0-1.04.2-1.43.59L10.3 9.45l-7.72 7.72c-.78.78-.78 2.05 0 2.83L4 21.41c.39.39.9.59 1.41.59.51 0 1.02-.2 1.41-.59l7.78-7.78 2.81-2.81c.8-.78.8-2.07 0-2.86zM5.41 20L4 18.59l7.72-7.72 1.47 1.35L5.41 20z\"/>\n",
              "  </svg>\n",
              "      </button>\n",
              "      \n",
              "  <style>\n",
              "    .colab-df-container {\n",
              "      display:flex;\n",
              "      flex-wrap:wrap;\n",
              "      gap: 12px;\n",
              "    }\n",
              "\n",
              "    .colab-df-convert {\n",
              "      background-color: #E8F0FE;\n",
              "      border: none;\n",
              "      border-radius: 50%;\n",
              "      cursor: pointer;\n",
              "      display: none;\n",
              "      fill: #1967D2;\n",
              "      height: 32px;\n",
              "      padding: 0 0 0 0;\n",
              "      width: 32px;\n",
              "    }\n",
              "\n",
              "    .colab-df-convert:hover {\n",
              "      background-color: #E2EBFA;\n",
              "      box-shadow: 0px 1px 2px rgba(60, 64, 67, 0.3), 0px 1px 3px 1px rgba(60, 64, 67, 0.15);\n",
              "      fill: #174EA6;\n",
              "    }\n",
              "\n",
              "    [theme=dark] .colab-df-convert {\n",
              "      background-color: #3B4455;\n",
              "      fill: #D2E3FC;\n",
              "    }\n",
              "\n",
              "    [theme=dark] .colab-df-convert:hover {\n",
              "      background-color: #434B5C;\n",
              "      box-shadow: 0px 1px 3px 1px rgba(0, 0, 0, 0.15);\n",
              "      filter: drop-shadow(0px 1px 2px rgba(0, 0, 0, 0.3));\n",
              "      fill: #FFFFFF;\n",
              "    }\n",
              "  </style>\n",
              "\n",
              "      <script>\n",
              "        const buttonEl =\n",
              "          document.querySelector('#df-159cccb5-a7ee-40a1-8694-1395fae4047e button.colab-df-convert');\n",
              "        buttonEl.style.display =\n",
              "          google.colab.kernel.accessAllowed ? 'block' : 'none';\n",
              "\n",
              "        async function convertToInteractive(key) {\n",
              "          const element = document.querySelector('#df-159cccb5-a7ee-40a1-8694-1395fae4047e');\n",
              "          const dataTable =\n",
              "            await google.colab.kernel.invokeFunction('convertToInteractive',\n",
              "                                                     [key], {});\n",
              "          if (!dataTable) return;\n",
              "\n",
              "          const docLinkHtml = 'Like what you see? Visit the ' +\n",
              "            '<a target=\"_blank\" href=https://colab.research.google.com/notebooks/data_table.ipynb>data table notebook</a>'\n",
              "            + ' to learn more about interactive tables.';\n",
              "          element.innerHTML = '';\n",
              "          dataTable['output_type'] = 'display_data';\n",
              "          await google.colab.output.renderOutput(dataTable, element);\n",
              "          const docLink = document.createElement('div');\n",
              "          docLink.innerHTML = docLinkHtml;\n",
              "          element.appendChild(docLink);\n",
              "        }\n",
              "      </script>\n",
              "    </div>\n",
              "  </div>\n",
              "  "
            ],
            "text/plain": [
              "         title  ...                                    review_tokenize\n",
              "0  NIVEA Creme  ...  kalau beli nivea krim ini di mana ya sepertiny...\n",
              "1  NIVEA Creme  ...  iya sepertinya memang enggak_cocok soalnya sem...\n",
              "2  NIVEA Creme  ...  nivea creme bisa bantu melembapkan bibir dan b...\n",
              "3  NIVEA Creme  ...  senang banget sama nivea creme ini lembap buat...\n",
              "4  NIVEA Creme  ...  content wah syukur deh cocok juga dipakai mask...\n",
              "\n",
              "[5 rows x 5 columns]"
            ]
          },
          "metadata": {},
          "execution_count": 62
        }
      ]
    },
    {
      "cell_type": "code",
      "source": [
        "re_stopword = pd.DataFrame(data['review_tokenize'])\n",
        "re_stopword.to_csv(\"/content/drive/My Drive/Project/Thesis/result/tokenizing.csv\", sep= ',')"
      ],
      "metadata": {
        "id": "YGf2IBBaZhU-"
      },
      "execution_count": 63,
      "outputs": []
    },
    {
      "cell_type": "code",
      "source": [
        "factory = StopWordRemoverFactory()\n",
        "stopword = factory.create_stop_word_remover()\n",
        "newlist = ['semenjak','penuh','komedo_putih','komedo_hitam','bekas_jerawat','tercampur','campuran','siku','lutut','jenisnya','sejenis','kadaluwarsanya','dipalsukan','pekan','akhir','pelembap','berapa','berubah','terjadi','entah','sejenis','jenis','jenisnya','tipe','paling','waduh','aduh','pemakaian','apel','paling','dibawa',\n",
        "           'kalinya','perasaan','makan','pemakaian','bahkan','bakal','menurutku','apapun','kata','cuka','masing','kondisi','plus','ditambah','kerasa','rasa','sinar','matahari','segala','kadang','tekstur','teksturnya','putih','minyaknya','flek_hitam','vitamin','sedang','hati','nafas','cairan','lipstik','besokannya','pengguna','termasuk','awalnya','pakainya',\n",
        "           'dipakainya','mineral','semacam','macam','kuas','merah','berdenyut','denyutnya','tubuh','cari','dihargai','harga','kotak','ponds','dikulitku','makkah','angkatnya','daya','adanya','mengoles','diseluruh','seluruh','berbagi','kakak','ikutan','perdana','ibuku','pori','bilang','sewajah','hampir','sebulan','warnanya','badanku','kakinya',\n",
        "           'dikaki','masa','kena','yogyakarta','bandung','jakarta','orang','mawar','adonannya','adonan','namanya','besok','besoknya','matanya','khasiatnya','sejauh','maksudnya','kemasannya','kemasan','produknya','daring','serbuknya','selesai','padahal','maskernya','maksimal','bersihnya','biar','terutama',\n",
        "           'toko','beli','varian','merah_muda','lidah_buaya','biru','pokoknya','matanya','besoknya','cowok','komedo','jam','maskernya','pipi','dagu','hasil','kedua','sehabis','mandi','dijadikan','orang','walaupun','besoknya','matanya','punggung','sendiri','berarti','warna','ngomong-ngomong','barang','kontrolnya','bangun',\n",
        "           'wanginya','baunya','sekali','kayaknya','semingguan','hidung','pengalaman','sering','selalu','berefek','tas','stok','lama','efeknya','jauh','cuci','cuka_apel','plastik','sendok','sumpah','maka','makanya','kerja','pulang','bertahun','tahun','berbahan','bahan','bahannya','hidung','dicampur','mencampur','campur',\n",
        "           'mengadon','kelihatan','kelihatannya','menemukan','oles','wanginya','baca','sebelah', 'saudara','sih', 'tawa','akhirnya','nih','thread','hidden','content','kok','aku','kamu','mereka','banget','aztec','lebih','siang', 'saripohatji', 'kyusoku','bihaku','pakai','beruntus',\n",
        "           'dicoba','punya','tambah','bibir','waktu','katanya','eyeliner','pas','ulasan','produk','masker','lah','halo','ah','perempuan','mam','bulan','malam','minggu','hari','bulanan','mingguan','mungkin','nya','nge','terlalu','bikin','lagi','creme','mak','dong','tuh','sendok_pelastik',\n",
        "           'kalian','tanya','kasih','ulasannya','area','dandan','mata','kapas','melihatnya','kulitnya','teh','sejak','teman','temanku','informasi','bagikan','bagian','bekas_belang','badan','kaki','lihat','tangan','super','paginya','kulitmu','dikulit','kulitku','diwajah','wajah','jerawatnya',\n",
        "           'jerawat','hasilnya','soalnya','jadi','mom','coba','ingin','selama','mulai','langsung','memang','bmc','krim','soal','satu','jadi','ibu','air','sini','semua','water','micellar','loreal','nivea','menjadi','ibu','terima_kasih',\n",
        "           'semua_kotoran','guru','semalam','nah','sunblok','menit','tinggal','tempat','ternyata','merasa','berrasa','terlihat','habis','tetap','malah','dimukaku','pijat','bilas','tidur','tahu','baru','buat','jadinya','sekarang','pas','minum','sangat','wah','cuma','efek','tiap','terus','buat','kapsul','kulit','maskeran','mah','say','hai',\n",
        "           'jepang','jerman','arab','tempel','menempel','wajahku','wajahnya','merek','menurutku','begini','memakai','tadi','dipakai','biasanya','apa','jerawatku','bedakan','sana','bawa','harganya','seminggu','beberapa','rasanya','banyak','semakin','makin','oke','bok','mencoba','sepertinya','bagaimana','sama','pernah','garnier','mbak','boks','suami',\n",
        "           'musim_dingin','berat_badan','diberi','enggak_merasakan','merasakan','up','pohon','pohon_minyak','valent','sekolah','clay','heinz','tahesta','bragg','benaran','benar','cuka_apel','kuliah','si','yah','mana','kali','an', 'malam', 'bedak','pagi','kemarin','pertama','sapaan','sapa','iya','loh','kan','eh','senyum','sore','deh','kalau','enggak_banjir','enggak_gumpal','enggak_datang',\n",
        "           'serum','toner','shiso','tbs','veet','rose','dewy','jar','oriflame','dokter','sari_ayu','mencuci','mencucinya','sa','gel','volcanic','jeju','wine','innisfree','hijau','telapak','ter','lalu','setelahnya','penjualnya','jual','daerah','ikut','serbuk','bentonite','kira','putihnya','idealnya','lipat','berasanya','didiamkan','alhasil','enggak_tahan','pencet','dahi','losion','ghassoul']\n",
        "stopword.dictionary.words.remove('tidak')\n",
        "stopword.dictionary.words.remove('agak')\n",
        "stopword.dictionary.words.remove('nggak')\n",
        "stopword.dictionary.words.remove('ingin')\n",
        "stopword.dictionary.words.extend(newlist)\n",
        "def stopwords(text):\n",
        "  cleaned = stopword.remove(text)\n",
        "  cleaned.shape\n",
        "  return cleaned\n",
        "#print(stopword.dictionary.words)"
      ],
      "metadata": {
        "id": "-efPc_R4gHf6"
      },
      "execution_count": 64,
      "outputs": []
    },
    {
      "cell_type": "code",
      "source": [
        "print('serum' in stopword.dictionary.words)"
      ],
      "metadata": {
        "colab": {
          "base_uri": "https://localhost:8080/"
        },
        "id": "OBOmzTWGgRlL",
        "outputId": "5ac67102-9d3d-4128-ee6c-3bc645b4184a"
      },
      "execution_count": 65,
      "outputs": [
        {
          "output_type": "stream",
          "name": "stdout",
          "text": [
            "True\n"
          ]
        }
      ]
    },
    {
      "cell_type": "code",
      "source": [
        "data['review_stop'] = data['review_tokenize'].apply(lambda text: \" \".join(stopword.remove(text) for text in text.split()) )\n",
        "data.head()"
      ],
      "metadata": {
        "colab": {
          "base_uri": "https://localhost:8080/",
          "height": 206
        },
        "id": "T6UWOxDrgT6Z",
        "outputId": "e37c2277-d279-4604-c62a-f2071f14ffa9"
      },
      "execution_count": 66,
      "outputs": [
        {
          "output_type": "execute_result",
          "data": {
            "text/html": [
              "\n",
              "  <div id=\"df-841997d7-1b2d-444c-8254-3be6c35e09b8\">\n",
              "    <div class=\"colab-df-container\">\n",
              "      <div>\n",
              "<style scoped>\n",
              "    .dataframe tbody tr th:only-of-type {\n",
              "        vertical-align: middle;\n",
              "    }\n",
              "\n",
              "    .dataframe tbody tr th {\n",
              "        vertical-align: top;\n",
              "    }\n",
              "\n",
              "    .dataframe thead th {\n",
              "        text-align: right;\n",
              "    }\n",
              "</style>\n",
              "<table border=\"1\" class=\"dataframe\">\n",
              "  <thead>\n",
              "    <tr style=\"text-align: right;\">\n",
              "      <th></th>\n",
              "      <th>title</th>\n",
              "      <th>review</th>\n",
              "      <th>kategori</th>\n",
              "      <th>review_formalize</th>\n",
              "      <th>review_tokenize</th>\n",
              "      <th>review_stop</th>\n",
              "    </tr>\n",
              "  </thead>\n",
              "  <tbody>\n",
              "    <tr>\n",
              "      <th>0</th>\n",
              "      <td>NIVEA Creme</td>\n",
              "      <td>kalau beli nivea cream ini dimana ya kayaknya ...</td>\n",
              "      <td>negatif</td>\n",
              "      <td>kalau beli nivea krim ini di mana ya sepertiny...</td>\n",
              "      <td>kalau beli nivea krim ini di mana ya sepertiny...</td>\n",
              "      <td>agak  susah</td>\n",
              "    </tr>\n",
              "    <tr>\n",
              "      <th>1</th>\n",
              "      <td>NIVEA Creme</td>\n",
              "      <td>iya kayaknya emang enggak cocok soalnya semenj...</td>\n",
              "      <td>negatif</td>\n",
              "      <td>iya sepertinya memang enggak cocok soalnya sem...</td>\n",
              "      <td>iya sepertinya memang enggak_cocok soalnya sem...</td>\n",
              "      <td>enggak_cocok        kasar</td>\n",
              "    </tr>\n",
              "    <tr>\n",
              "      <th>2</th>\n",
              "      <td>NIVEA Creme</td>\n",
              "      <td>nivea creme bisa bantu melembapkan bibir dan b...</td>\n",
              "      <td>positif</td>\n",
              "      <td>nivea creme bisa bantu melembapkan bibir dan b...</td>\n",
              "      <td>nivea creme bisa bantu melembapkan bibir dan b...</td>\n",
              "      <td>bantu melembapkan    pengelupasan  mati    ...</td>\n",
              "    </tr>\n",
              "    <tr>\n",
              "      <th>3</th>\n",
              "      <td>NIVEA Creme</td>\n",
              "      <td>senang banget sama nivea creme inih lembab bgt...</td>\n",
              "      <td>positif</td>\n",
              "      <td>senang banget sama nivea creme ini lembap buat...</td>\n",
              "      <td>senang banget sama nivea creme ini lembap buat...</td>\n",
              "      <td>senang      lembap</td>\n",
              "    </tr>\n",
              "    <tr>\n",
              "      <th>4</th>\n",
              "      <td>NIVEA Creme</td>\n",
              "      <td>content wah syukur deh cocok jg dipake masker...</td>\n",
              "      <td>positif</td>\n",
              "      <td>content wah syukur deh cocok juga dipakai mask...</td>\n",
              "      <td>content wah syukur deh cocok juga dipakai mask...</td>\n",
              "      <td>syukur  cocok    lumayan   alternatif   ganti</td>\n",
              "    </tr>\n",
              "  </tbody>\n",
              "</table>\n",
              "</div>\n",
              "      <button class=\"colab-df-convert\" onclick=\"convertToInteractive('df-841997d7-1b2d-444c-8254-3be6c35e09b8')\"\n",
              "              title=\"Convert this dataframe to an interactive table.\"\n",
              "              style=\"display:none;\">\n",
              "        \n",
              "  <svg xmlns=\"http://www.w3.org/2000/svg\" height=\"24px\"viewBox=\"0 0 24 24\"\n",
              "       width=\"24px\">\n",
              "    <path d=\"M0 0h24v24H0V0z\" fill=\"none\"/>\n",
              "    <path d=\"M18.56 5.44l.94 2.06.94-2.06 2.06-.94-2.06-.94-.94-2.06-.94 2.06-2.06.94zm-11 1L8.5 8.5l.94-2.06 2.06-.94-2.06-.94L8.5 2.5l-.94 2.06-2.06.94zm10 10l.94 2.06.94-2.06 2.06-.94-2.06-.94-.94-2.06-.94 2.06-2.06.94z\"/><path d=\"M17.41 7.96l-1.37-1.37c-.4-.4-.92-.59-1.43-.59-.52 0-1.04.2-1.43.59L10.3 9.45l-7.72 7.72c-.78.78-.78 2.05 0 2.83L4 21.41c.39.39.9.59 1.41.59.51 0 1.02-.2 1.41-.59l7.78-7.78 2.81-2.81c.8-.78.8-2.07 0-2.86zM5.41 20L4 18.59l7.72-7.72 1.47 1.35L5.41 20z\"/>\n",
              "  </svg>\n",
              "      </button>\n",
              "      \n",
              "  <style>\n",
              "    .colab-df-container {\n",
              "      display:flex;\n",
              "      flex-wrap:wrap;\n",
              "      gap: 12px;\n",
              "    }\n",
              "\n",
              "    .colab-df-convert {\n",
              "      background-color: #E8F0FE;\n",
              "      border: none;\n",
              "      border-radius: 50%;\n",
              "      cursor: pointer;\n",
              "      display: none;\n",
              "      fill: #1967D2;\n",
              "      height: 32px;\n",
              "      padding: 0 0 0 0;\n",
              "      width: 32px;\n",
              "    }\n",
              "\n",
              "    .colab-df-convert:hover {\n",
              "      background-color: #E2EBFA;\n",
              "      box-shadow: 0px 1px 2px rgba(60, 64, 67, 0.3), 0px 1px 3px 1px rgba(60, 64, 67, 0.15);\n",
              "      fill: #174EA6;\n",
              "    }\n",
              "\n",
              "    [theme=dark] .colab-df-convert {\n",
              "      background-color: #3B4455;\n",
              "      fill: #D2E3FC;\n",
              "    }\n",
              "\n",
              "    [theme=dark] .colab-df-convert:hover {\n",
              "      background-color: #434B5C;\n",
              "      box-shadow: 0px 1px 3px 1px rgba(0, 0, 0, 0.15);\n",
              "      filter: drop-shadow(0px 1px 2px rgba(0, 0, 0, 0.3));\n",
              "      fill: #FFFFFF;\n",
              "    }\n",
              "  </style>\n",
              "\n",
              "      <script>\n",
              "        const buttonEl =\n",
              "          document.querySelector('#df-841997d7-1b2d-444c-8254-3be6c35e09b8 button.colab-df-convert');\n",
              "        buttonEl.style.display =\n",
              "          google.colab.kernel.accessAllowed ? 'block' : 'none';\n",
              "\n",
              "        async function convertToInteractive(key) {\n",
              "          const element = document.querySelector('#df-841997d7-1b2d-444c-8254-3be6c35e09b8');\n",
              "          const dataTable =\n",
              "            await google.colab.kernel.invokeFunction('convertToInteractive',\n",
              "                                                     [key], {});\n",
              "          if (!dataTable) return;\n",
              "\n",
              "          const docLinkHtml = 'Like what you see? Visit the ' +\n",
              "            '<a target=\"_blank\" href=https://colab.research.google.com/notebooks/data_table.ipynb>data table notebook</a>'\n",
              "            + ' to learn more about interactive tables.';\n",
              "          element.innerHTML = '';\n",
              "          dataTable['output_type'] = 'display_data';\n",
              "          await google.colab.output.renderOutput(dataTable, element);\n",
              "          const docLink = document.createElement('div');\n",
              "          docLink.innerHTML = docLinkHtml;\n",
              "          element.appendChild(docLink);\n",
              "        }\n",
              "      </script>\n",
              "    </div>\n",
              "  </div>\n",
              "  "
            ],
            "text/plain": [
              "         title  ...                                        review_stop\n",
              "0  NIVEA Creme  ...                                      agak  susah  \n",
              "1  NIVEA Creme  ...                        enggak_cocok        kasar  \n",
              "2  NIVEA Creme  ...     bantu melembapkan    pengelupasan  mati    ...\n",
              "3  NIVEA Creme  ...                              senang      lembap   \n",
              "4  NIVEA Creme  ...     syukur  cocok    lumayan   alternatif   ganti \n",
              "\n",
              "[5 rows x 6 columns]"
            ]
          },
          "metadata": {},
          "execution_count": 66
        }
      ]
    },
    {
      "cell_type": "code",
      "source": [
        "re_stopword = pd.DataFrame(data['review_stop'])\n",
        "re_stopword.to_csv(\"/content/drive/My Drive/Project/Thesis/result/stopword.csv\", sep= ',')"
      ],
      "metadata": {
        "id": "SGRictdwgZ9V"
      },
      "execution_count": 67,
      "outputs": []
    },
    {
      "cell_type": "code",
      "source": [
        "#Stemming sastrawi\n",
        "factory = StemmerFactory()\n",
        "stemmer = factory.create_stemmer()\n",
        "def stemming(text):\n",
        "  list_tokens = text.split(' ')\n",
        "  text = [(token + \":\" + stemmer.stem(token)) for token in list_tokens]\n",
        "  text = [stemmer.stem(token) for token in list_tokens]\n",
        "  return \" \".join(text)"
      ],
      "metadata": {
        "id": "rqWHZHoQgcEi"
      },
      "execution_count": 68,
      "outputs": []
    },
    {
      "cell_type": "code",
      "source": [
        "data['review_stem'] = data['review_stop'].apply(stemming)\n",
        "data.head()"
      ],
      "metadata": {
        "colab": {
          "base_uri": "https://localhost:8080/",
          "height": 337
        },
        "id": "ZoxF0ILMgiQs",
        "outputId": "92ce4e2a-dd3e-4fd2-c81a-c7b2f96da877"
      },
      "execution_count": 69,
      "outputs": [
        {
          "output_type": "execute_result",
          "data": {
            "text/html": [
              "\n",
              "  <div id=\"df-37703a03-6047-484f-bb83-adfbf75f2231\">\n",
              "    <div class=\"colab-df-container\">\n",
              "      <div>\n",
              "<style scoped>\n",
              "    .dataframe tbody tr th:only-of-type {\n",
              "        vertical-align: middle;\n",
              "    }\n",
              "\n",
              "    .dataframe tbody tr th {\n",
              "        vertical-align: top;\n",
              "    }\n",
              "\n",
              "    .dataframe thead th {\n",
              "        text-align: right;\n",
              "    }\n",
              "</style>\n",
              "<table border=\"1\" class=\"dataframe\">\n",
              "  <thead>\n",
              "    <tr style=\"text-align: right;\">\n",
              "      <th></th>\n",
              "      <th>title</th>\n",
              "      <th>review</th>\n",
              "      <th>kategori</th>\n",
              "      <th>review_formalize</th>\n",
              "      <th>review_tokenize</th>\n",
              "      <th>review_stop</th>\n",
              "      <th>review_stem</th>\n",
              "    </tr>\n",
              "  </thead>\n",
              "  <tbody>\n",
              "    <tr>\n",
              "      <th>0</th>\n",
              "      <td>NIVEA Creme</td>\n",
              "      <td>kalau beli nivea cream ini dimana ya kayaknya ...</td>\n",
              "      <td>negatif</td>\n",
              "      <td>kalau beli nivea krim ini di mana ya sepertiny...</td>\n",
              "      <td>kalau beli nivea krim ini di mana ya sepertiny...</td>\n",
              "      <td>agak  susah</td>\n",
              "      <td>agak  susah</td>\n",
              "    </tr>\n",
              "    <tr>\n",
              "      <th>1</th>\n",
              "      <td>NIVEA Creme</td>\n",
              "      <td>iya kayaknya emang enggak cocok soalnya semenj...</td>\n",
              "      <td>negatif</td>\n",
              "      <td>iya sepertinya memang enggak cocok soalnya sem...</td>\n",
              "      <td>iya sepertinya memang enggak_cocok soalnya sem...</td>\n",
              "      <td>enggak_cocok        kasar</td>\n",
              "      <td>enggak cocok        kasar</td>\n",
              "    </tr>\n",
              "    <tr>\n",
              "      <th>2</th>\n",
              "      <td>NIVEA Creme</td>\n",
              "      <td>nivea creme bisa bantu melembapkan bibir dan b...</td>\n",
              "      <td>positif</td>\n",
              "      <td>nivea creme bisa bantu melembapkan bibir dan b...</td>\n",
              "      <td>nivea creme bisa bantu melembapkan bibir dan b...</td>\n",
              "      <td>bantu melembapkan    pengelupasan  mati    ...</td>\n",
              "      <td>bantu lembap    kelupas  mati    mudah</td>\n",
              "    </tr>\n",
              "    <tr>\n",
              "      <th>3</th>\n",
              "      <td>NIVEA Creme</td>\n",
              "      <td>senang banget sama nivea creme inih lembab bgt...</td>\n",
              "      <td>positif</td>\n",
              "      <td>senang banget sama nivea creme ini lembap buat...</td>\n",
              "      <td>senang banget sama nivea creme ini lembap buat...</td>\n",
              "      <td>senang      lembap</td>\n",
              "      <td>senang      lembap</td>\n",
              "    </tr>\n",
              "    <tr>\n",
              "      <th>4</th>\n",
              "      <td>NIVEA Creme</td>\n",
              "      <td>content wah syukur deh cocok jg dipake masker...</td>\n",
              "      <td>positif</td>\n",
              "      <td>content wah syukur deh cocok juga dipakai mask...</td>\n",
              "      <td>content wah syukur deh cocok juga dipakai mask...</td>\n",
              "      <td>syukur  cocok    lumayan   alternatif   ganti</td>\n",
              "      <td>syukur  cocok    lumayan   alternatif   ganti</td>\n",
              "    </tr>\n",
              "  </tbody>\n",
              "</table>\n",
              "</div>\n",
              "      <button class=\"colab-df-convert\" onclick=\"convertToInteractive('df-37703a03-6047-484f-bb83-adfbf75f2231')\"\n",
              "              title=\"Convert this dataframe to an interactive table.\"\n",
              "              style=\"display:none;\">\n",
              "        \n",
              "  <svg xmlns=\"http://www.w3.org/2000/svg\" height=\"24px\"viewBox=\"0 0 24 24\"\n",
              "       width=\"24px\">\n",
              "    <path d=\"M0 0h24v24H0V0z\" fill=\"none\"/>\n",
              "    <path d=\"M18.56 5.44l.94 2.06.94-2.06 2.06-.94-2.06-.94-.94-2.06-.94 2.06-2.06.94zm-11 1L8.5 8.5l.94-2.06 2.06-.94-2.06-.94L8.5 2.5l-.94 2.06-2.06.94zm10 10l.94 2.06.94-2.06 2.06-.94-2.06-.94-.94-2.06-.94 2.06-2.06.94z\"/><path d=\"M17.41 7.96l-1.37-1.37c-.4-.4-.92-.59-1.43-.59-.52 0-1.04.2-1.43.59L10.3 9.45l-7.72 7.72c-.78.78-.78 2.05 0 2.83L4 21.41c.39.39.9.59 1.41.59.51 0 1.02-.2 1.41-.59l7.78-7.78 2.81-2.81c.8-.78.8-2.07 0-2.86zM5.41 20L4 18.59l7.72-7.72 1.47 1.35L5.41 20z\"/>\n",
              "  </svg>\n",
              "      </button>\n",
              "      \n",
              "  <style>\n",
              "    .colab-df-container {\n",
              "      display:flex;\n",
              "      flex-wrap:wrap;\n",
              "      gap: 12px;\n",
              "    }\n",
              "\n",
              "    .colab-df-convert {\n",
              "      background-color: #E8F0FE;\n",
              "      border: none;\n",
              "      border-radius: 50%;\n",
              "      cursor: pointer;\n",
              "      display: none;\n",
              "      fill: #1967D2;\n",
              "      height: 32px;\n",
              "      padding: 0 0 0 0;\n",
              "      width: 32px;\n",
              "    }\n",
              "\n",
              "    .colab-df-convert:hover {\n",
              "      background-color: #E2EBFA;\n",
              "      box-shadow: 0px 1px 2px rgba(60, 64, 67, 0.3), 0px 1px 3px 1px rgba(60, 64, 67, 0.15);\n",
              "      fill: #174EA6;\n",
              "    }\n",
              "\n",
              "    [theme=dark] .colab-df-convert {\n",
              "      background-color: #3B4455;\n",
              "      fill: #D2E3FC;\n",
              "    }\n",
              "\n",
              "    [theme=dark] .colab-df-convert:hover {\n",
              "      background-color: #434B5C;\n",
              "      box-shadow: 0px 1px 3px 1px rgba(0, 0, 0, 0.15);\n",
              "      filter: drop-shadow(0px 1px 2px rgba(0, 0, 0, 0.3));\n",
              "      fill: #FFFFFF;\n",
              "    }\n",
              "  </style>\n",
              "\n",
              "      <script>\n",
              "        const buttonEl =\n",
              "          document.querySelector('#df-37703a03-6047-484f-bb83-adfbf75f2231 button.colab-df-convert');\n",
              "        buttonEl.style.display =\n",
              "          google.colab.kernel.accessAllowed ? 'block' : 'none';\n",
              "\n",
              "        async function convertToInteractive(key) {\n",
              "          const element = document.querySelector('#df-37703a03-6047-484f-bb83-adfbf75f2231');\n",
              "          const dataTable =\n",
              "            await google.colab.kernel.invokeFunction('convertToInteractive',\n",
              "                                                     [key], {});\n",
              "          if (!dataTable) return;\n",
              "\n",
              "          const docLinkHtml = 'Like what you see? Visit the ' +\n",
              "            '<a target=\"_blank\" href=https://colab.research.google.com/notebooks/data_table.ipynb>data table notebook</a>'\n",
              "            + ' to learn more about interactive tables.';\n",
              "          element.innerHTML = '';\n",
              "          dataTable['output_type'] = 'display_data';\n",
              "          await google.colab.output.renderOutput(dataTable, element);\n",
              "          const docLink = document.createElement('div');\n",
              "          docLink.innerHTML = docLinkHtml;\n",
              "          element.appendChild(docLink);\n",
              "        }\n",
              "      </script>\n",
              "    </div>\n",
              "  </div>\n",
              "  "
            ],
            "text/plain": [
              "         title  ...                                       review_stem\n",
              "0  NIVEA Creme  ...                                     agak  susah  \n",
              "1  NIVEA Creme  ...                       enggak cocok        kasar  \n",
              "2  NIVEA Creme  ...            bantu lembap    kelupas  mati    mudah\n",
              "3  NIVEA Creme  ...                             senang      lembap   \n",
              "4  NIVEA Creme  ...    syukur  cocok    lumayan   alternatif   ganti \n",
              "\n",
              "[5 rows x 7 columns]"
            ]
          },
          "metadata": {},
          "execution_count": 69
        }
      ]
    },
    {
      "cell_type": "code",
      "source": [
        "re_stemming = pd.DataFrame(data['review_stem'])\n",
        "re_stemming.to_csv(\"/content/drive/My Drive/Project/Thesis/result/stemming.csv\", sep= ',')"
      ],
      "metadata": {
        "id": "b91jOg22gldU"
      },
      "execution_count": 70,
      "outputs": []
    },
    {
      "cell_type": "markdown",
      "source": [
        "Fitur TF-IDF"
      ],
      "metadata": {
        "id": "G5ZjFOGrq7yP"
      }
    },
    {
      "cell_type": "code",
      "source": [
        "# inisialisasi CountVectorizer\n",
        "count_vect = CountVectorizer()\n",
        "X_train_counts = count_vect.fit_transform(data['review_stem'].tolist())\n",
        "X_train_counts.shape"
      ],
      "metadata": {
        "colab": {
          "base_uri": "https://localhost:8080/"
        },
        "id": "yhMnPUKzgnDU",
        "outputId": "53eb4b06-6195-4456-a3fb-9cc6280231f5"
      },
      "execution_count": 71,
      "outputs": [
        {
          "output_type": "execute_result",
          "data": {
            "text/plain": [
              "(1259, 966)"
            ]
          },
          "metadata": {},
          "execution_count": 71
        }
      ]
    },
    {
      "cell_type": "code",
      "source": [
        "check = count_vect.get_feature_names()\n",
        "checkpd = pd.DataFrame(check)\n",
        "checkpd.to_csv(\"/content/drive/My Drive/Project/Thesis/result/check.csv\", sep= ',')"
      ],
      "metadata": {
        "colab": {
          "base_uri": "https://localhost:8080/"
        },
        "id": "oZMc_b7crCvp",
        "outputId": "88c98e8f-dc6a-4b52-b754-efe97f52bf0e"
      },
      "execution_count": 72,
      "outputs": [
        {
          "output_type": "stream",
          "name": "stderr",
          "text": [
            "/usr/local/lib/python3.7/dist-packages/sklearn/utils/deprecation.py:87: FutureWarning: Function get_feature_names is deprecated; get_feature_names is deprecated in 1.0 and will be removed in 1.2. Please use get_feature_names_out instead.\n",
            "  warnings.warn(msg, category=FutureWarning)\n"
          ]
        }
      ]
    },
    {
      "cell_type": "code",
      "source": [
        "count_vect.vocabulary_.get(u'algorithm')"
      ],
      "metadata": {
        "id": "8_7_8glTrGzc"
      },
      "execution_count": 73,
      "outputs": []
    },
    {
      "cell_type": "code",
      "source": [
        "#hitung nilai TFIDF\n",
        "tfidf_transformer = TfidfTransformer()\n",
        "X_train_tfidf = tfidf_transformer.fit_transform(X_train_counts)\n",
        "#print(X_train_tfidf.get_feature_names())\n",
        "print(X_train_tfidf.shape)"
      ],
      "metadata": {
        "colab": {
          "base_uri": "https://localhost:8080/"
        },
        "id": "NHpwHvWQrIhY",
        "outputId": "17b60ab0-629b-4639-fc1d-ccfa778056b7"
      },
      "execution_count": 74,
      "outputs": [
        {
          "output_type": "stream",
          "name": "stdout",
          "text": [
            "(1259, 966)\n"
          ]
        }
      ]
    },
    {
      "cell_type": "code",
      "source": [
        "# print nilai idf \n",
        "df_idf = pd.DataFrame(tfidf_transformer.idf_, index=count_vect.get_feature_names(),columns=[\"idf_weights\"])\n",
        "# sort ascending \n",
        "df_idf.sort_values(by=['idf_weights'])"
      ],
      "metadata": {
        "colab": {
          "base_uri": "https://localhost:8080/",
          "height": 478
        },
        "id": "YZJ0WfUFrNkJ",
        "outputId": "bf74556c-9875-47f4-99d6-7c82adbe991b"
      },
      "execution_count": 75,
      "outputs": [
        {
          "output_type": "stream",
          "name": "stderr",
          "text": [
            "/usr/local/lib/python3.7/dist-packages/sklearn/utils/deprecation.py:87: FutureWarning: Function get_feature_names is deprecated; get_feature_names is deprecated in 1.0 and will be removed in 1.2. Please use get_feature_names_out instead.\n",
            "  warnings.warn(msg, category=FutureWarning)\n"
          ]
        },
        {
          "output_type": "execute_result",
          "data": {
            "text/html": [
              "\n",
              "  <div id=\"df-008d613b-4d10-44db-b863-ec016456818f\">\n",
              "    <div class=\"colab-df-container\">\n",
              "      <div>\n",
              "<style scoped>\n",
              "    .dataframe tbody tr th:only-of-type {\n",
              "        vertical-align: middle;\n",
              "    }\n",
              "\n",
              "    .dataframe tbody tr th {\n",
              "        vertical-align: top;\n",
              "    }\n",
              "\n",
              "    .dataframe thead th {\n",
              "        text-align: right;\n",
              "    }\n",
              "</style>\n",
              "<table border=\"1\" class=\"dataframe\">\n",
              "  <thead>\n",
              "    <tr style=\"text-align: right;\">\n",
              "      <th></th>\n",
              "      <th>idf_weights</th>\n",
              "    </tr>\n",
              "  </thead>\n",
              "  <tbody>\n",
              "    <tr>\n",
              "      <th>enggak</th>\n",
              "      <td>2.122710</td>\n",
              "    </tr>\n",
              "    <tr>\n",
              "      <th>cocok</th>\n",
              "      <td>2.801329</td>\n",
              "    </tr>\n",
              "    <tr>\n",
              "      <th>jerawat</th>\n",
              "      <td>3.076272</td>\n",
              "    </tr>\n",
              "    <tr>\n",
              "      <th>cerah</th>\n",
              "      <td>3.411479</td>\n",
              "    </tr>\n",
              "    <tr>\n",
              "      <th>suka</th>\n",
              "      <td>3.429337</td>\n",
              "    </tr>\n",
              "    <tr>\n",
              "      <th>...</th>\n",
              "      <td>...</td>\n",
              "    </tr>\n",
              "    <tr>\n",
              "      <th>ngeletek</th>\n",
              "      <td>7.445720</td>\n",
              "    </tr>\n",
              "    <tr>\n",
              "      <th>ngeh</th>\n",
              "      <td>7.445720</td>\n",
              "    </tr>\n",
              "    <tr>\n",
              "      <th>fasial</th>\n",
              "      <td>7.445720</td>\n",
              "    </tr>\n",
              "    <tr>\n",
              "      <th>navaa</th>\n",
              "      <td>7.445720</td>\n",
              "    </tr>\n",
              "    <tr>\n",
              "      <th>acung</th>\n",
              "      <td>7.445720</td>\n",
              "    </tr>\n",
              "  </tbody>\n",
              "</table>\n",
              "<p>966 rows × 1 columns</p>\n",
              "</div>\n",
              "      <button class=\"colab-df-convert\" onclick=\"convertToInteractive('df-008d613b-4d10-44db-b863-ec016456818f')\"\n",
              "              title=\"Convert this dataframe to an interactive table.\"\n",
              "              style=\"display:none;\">\n",
              "        \n",
              "  <svg xmlns=\"http://www.w3.org/2000/svg\" height=\"24px\"viewBox=\"0 0 24 24\"\n",
              "       width=\"24px\">\n",
              "    <path d=\"M0 0h24v24H0V0z\" fill=\"none\"/>\n",
              "    <path d=\"M18.56 5.44l.94 2.06.94-2.06 2.06-.94-2.06-.94-.94-2.06-.94 2.06-2.06.94zm-11 1L8.5 8.5l.94-2.06 2.06-.94-2.06-.94L8.5 2.5l-.94 2.06-2.06.94zm10 10l.94 2.06.94-2.06 2.06-.94-2.06-.94-.94-2.06-.94 2.06-2.06.94z\"/><path d=\"M17.41 7.96l-1.37-1.37c-.4-.4-.92-.59-1.43-.59-.52 0-1.04.2-1.43.59L10.3 9.45l-7.72 7.72c-.78.78-.78 2.05 0 2.83L4 21.41c.39.39.9.59 1.41.59.51 0 1.02-.2 1.41-.59l7.78-7.78 2.81-2.81c.8-.78.8-2.07 0-2.86zM5.41 20L4 18.59l7.72-7.72 1.47 1.35L5.41 20z\"/>\n",
              "  </svg>\n",
              "      </button>\n",
              "      \n",
              "  <style>\n",
              "    .colab-df-container {\n",
              "      display:flex;\n",
              "      flex-wrap:wrap;\n",
              "      gap: 12px;\n",
              "    }\n",
              "\n",
              "    .colab-df-convert {\n",
              "      background-color: #E8F0FE;\n",
              "      border: none;\n",
              "      border-radius: 50%;\n",
              "      cursor: pointer;\n",
              "      display: none;\n",
              "      fill: #1967D2;\n",
              "      height: 32px;\n",
              "      padding: 0 0 0 0;\n",
              "      width: 32px;\n",
              "    }\n",
              "\n",
              "    .colab-df-convert:hover {\n",
              "      background-color: #E2EBFA;\n",
              "      box-shadow: 0px 1px 2px rgba(60, 64, 67, 0.3), 0px 1px 3px 1px rgba(60, 64, 67, 0.15);\n",
              "      fill: #174EA6;\n",
              "    }\n",
              "\n",
              "    [theme=dark] .colab-df-convert {\n",
              "      background-color: #3B4455;\n",
              "      fill: #D2E3FC;\n",
              "    }\n",
              "\n",
              "    [theme=dark] .colab-df-convert:hover {\n",
              "      background-color: #434B5C;\n",
              "      box-shadow: 0px 1px 3px 1px rgba(0, 0, 0, 0.15);\n",
              "      filter: drop-shadow(0px 1px 2px rgba(0, 0, 0, 0.3));\n",
              "      fill: #FFFFFF;\n",
              "    }\n",
              "  </style>\n",
              "\n",
              "      <script>\n",
              "        const buttonEl =\n",
              "          document.querySelector('#df-008d613b-4d10-44db-b863-ec016456818f button.colab-df-convert');\n",
              "        buttonEl.style.display =\n",
              "          google.colab.kernel.accessAllowed ? 'block' : 'none';\n",
              "\n",
              "        async function convertToInteractive(key) {\n",
              "          const element = document.querySelector('#df-008d613b-4d10-44db-b863-ec016456818f');\n",
              "          const dataTable =\n",
              "            await google.colab.kernel.invokeFunction('convertToInteractive',\n",
              "                                                     [key], {});\n",
              "          if (!dataTable) return;\n",
              "\n",
              "          const docLinkHtml = 'Like what you see? Visit the ' +\n",
              "            '<a target=\"_blank\" href=https://colab.research.google.com/notebooks/data_table.ipynb>data table notebook</a>'\n",
              "            + ' to learn more about interactive tables.';\n",
              "          element.innerHTML = '';\n",
              "          dataTable['output_type'] = 'display_data';\n",
              "          await google.colab.output.renderOutput(dataTable, element);\n",
              "          const docLink = document.createElement('div');\n",
              "          docLink.innerHTML = docLinkHtml;\n",
              "          element.appendChild(docLink);\n",
              "        }\n",
              "      </script>\n",
              "    </div>\n",
              "  </div>\n",
              "  "
            ],
            "text/plain": [
              "          idf_weights\n",
              "enggak       2.122710\n",
              "cocok        2.801329\n",
              "jerawat      3.076272\n",
              "cerah        3.411479\n",
              "suka         3.429337\n",
              "...               ...\n",
              "ngeletek     7.445720\n",
              "ngeh         7.445720\n",
              "fasial       7.445720\n",
              "navaa        7.445720\n",
              "acung        7.445720\n",
              "\n",
              "[966 rows x 1 columns]"
            ]
          },
          "metadata": {},
          "execution_count": 75
        }
      ]
    },
    {
      "cell_type": "code",
      "source": [
        "#hitung skor TFIDF untuk ulasan\n",
        "# count matrix \n",
        "count_vector=count_vect.transform(data['review_stem'].tolist()) \n",
        "# tf-idf scores \n",
        "tf_idf_vector=tfidf_transformer.transform(count_vector)\n",
        "feature_names = count_vect.get_feature_names() \n",
        "#get tfidf vector for first document \n",
        "first_document_vector=tf_idf_vector[0] \n",
        "#print the scores \n",
        "df = pd.DataFrame(first_document_vector.T.todense(), index=feature_names, columns=[\"tfidf\"]) \n",
        "df.sort_values(by=[\"tfidf\"],ascending=False)"
      ],
      "metadata": {
        "colab": {
          "base_uri": "https://localhost:8080/",
          "height": 478
        },
        "id": "rE_G7hYdrR2D",
        "outputId": "c7abffbd-17cc-4018-bf95-d8a5237e8e87"
      },
      "execution_count": 76,
      "outputs": [
        {
          "output_type": "stream",
          "name": "stderr",
          "text": [
            "/usr/local/lib/python3.7/dist-packages/sklearn/utils/deprecation.py:87: FutureWarning: Function get_feature_names is deprecated; get_feature_names is deprecated in 1.0 and will be removed in 1.2. Please use get_feature_names_out instead.\n",
            "  warnings.warn(msg, category=FutureWarning)\n"
          ]
        },
        {
          "output_type": "execute_result",
          "data": {
            "text/html": [
              "\n",
              "  <div id=\"df-f6427e8c-1c36-4f31-b25d-3c7ddd598361\">\n",
              "    <div class=\"colab-df-container\">\n",
              "      <div>\n",
              "<style scoped>\n",
              "    .dataframe tbody tr th:only-of-type {\n",
              "        vertical-align: middle;\n",
              "    }\n",
              "\n",
              "    .dataframe tbody tr th {\n",
              "        vertical-align: top;\n",
              "    }\n",
              "\n",
              "    .dataframe thead th {\n",
              "        text-align: right;\n",
              "    }\n",
              "</style>\n",
              "<table border=\"1\" class=\"dataframe\">\n",
              "  <thead>\n",
              "    <tr style=\"text-align: right;\">\n",
              "      <th></th>\n",
              "      <th>tfidf</th>\n",
              "    </tr>\n",
              "  </thead>\n",
              "  <tbody>\n",
              "    <tr>\n",
              "      <th>susah</th>\n",
              "      <td>0.779107</td>\n",
              "    </tr>\n",
              "    <tr>\n",
              "      <th>agak</th>\n",
              "      <td>0.626891</td>\n",
              "    </tr>\n",
              "    <tr>\n",
              "      <th>acung</th>\n",
              "      <td>0.000000</td>\n",
              "    </tr>\n",
              "    <tr>\n",
              "      <th>pelan</th>\n",
              "      <td>0.000000</td>\n",
              "    </tr>\n",
              "    <tr>\n",
              "      <th>parfume</th>\n",
              "      <td>0.000000</td>\n",
              "    </tr>\n",
              "    <tr>\n",
              "      <th>...</th>\n",
              "      <td>...</td>\n",
              "    </tr>\n",
              "    <tr>\n",
              "      <th>hore</th>\n",
              "      <td>0.000000</td>\n",
              "    </tr>\n",
              "    <tr>\n",
              "      <th>hutang</th>\n",
              "      <td>0.000000</td>\n",
              "    </tr>\n",
              "    <tr>\n",
              "      <th>ibukota</th>\n",
              "      <td>0.000000</td>\n",
              "    </tr>\n",
              "    <tr>\n",
              "      <th>icip</th>\n",
              "      <td>0.000000</td>\n",
              "    </tr>\n",
              "    <tr>\n",
              "      <th>yuk</th>\n",
              "      <td>0.000000</td>\n",
              "    </tr>\n",
              "  </tbody>\n",
              "</table>\n",
              "<p>966 rows × 1 columns</p>\n",
              "</div>\n",
              "      <button class=\"colab-df-convert\" onclick=\"convertToInteractive('df-f6427e8c-1c36-4f31-b25d-3c7ddd598361')\"\n",
              "              title=\"Convert this dataframe to an interactive table.\"\n",
              "              style=\"display:none;\">\n",
              "        \n",
              "  <svg xmlns=\"http://www.w3.org/2000/svg\" height=\"24px\"viewBox=\"0 0 24 24\"\n",
              "       width=\"24px\">\n",
              "    <path d=\"M0 0h24v24H0V0z\" fill=\"none\"/>\n",
              "    <path d=\"M18.56 5.44l.94 2.06.94-2.06 2.06-.94-2.06-.94-.94-2.06-.94 2.06-2.06.94zm-11 1L8.5 8.5l.94-2.06 2.06-.94-2.06-.94L8.5 2.5l-.94 2.06-2.06.94zm10 10l.94 2.06.94-2.06 2.06-.94-2.06-.94-.94-2.06-.94 2.06-2.06.94z\"/><path d=\"M17.41 7.96l-1.37-1.37c-.4-.4-.92-.59-1.43-.59-.52 0-1.04.2-1.43.59L10.3 9.45l-7.72 7.72c-.78.78-.78 2.05 0 2.83L4 21.41c.39.39.9.59 1.41.59.51 0 1.02-.2 1.41-.59l7.78-7.78 2.81-2.81c.8-.78.8-2.07 0-2.86zM5.41 20L4 18.59l7.72-7.72 1.47 1.35L5.41 20z\"/>\n",
              "  </svg>\n",
              "      </button>\n",
              "      \n",
              "  <style>\n",
              "    .colab-df-container {\n",
              "      display:flex;\n",
              "      flex-wrap:wrap;\n",
              "      gap: 12px;\n",
              "    }\n",
              "\n",
              "    .colab-df-convert {\n",
              "      background-color: #E8F0FE;\n",
              "      border: none;\n",
              "      border-radius: 50%;\n",
              "      cursor: pointer;\n",
              "      display: none;\n",
              "      fill: #1967D2;\n",
              "      height: 32px;\n",
              "      padding: 0 0 0 0;\n",
              "      width: 32px;\n",
              "    }\n",
              "\n",
              "    .colab-df-convert:hover {\n",
              "      background-color: #E2EBFA;\n",
              "      box-shadow: 0px 1px 2px rgba(60, 64, 67, 0.3), 0px 1px 3px 1px rgba(60, 64, 67, 0.15);\n",
              "      fill: #174EA6;\n",
              "    }\n",
              "\n",
              "    [theme=dark] .colab-df-convert {\n",
              "      background-color: #3B4455;\n",
              "      fill: #D2E3FC;\n",
              "    }\n",
              "\n",
              "    [theme=dark] .colab-df-convert:hover {\n",
              "      background-color: #434B5C;\n",
              "      box-shadow: 0px 1px 3px 1px rgba(0, 0, 0, 0.15);\n",
              "      filter: drop-shadow(0px 1px 2px rgba(0, 0, 0, 0.3));\n",
              "      fill: #FFFFFF;\n",
              "    }\n",
              "  </style>\n",
              "\n",
              "      <script>\n",
              "        const buttonEl =\n",
              "          document.querySelector('#df-f6427e8c-1c36-4f31-b25d-3c7ddd598361 button.colab-df-convert');\n",
              "        buttonEl.style.display =\n",
              "          google.colab.kernel.accessAllowed ? 'block' : 'none';\n",
              "\n",
              "        async function convertToInteractive(key) {\n",
              "          const element = document.querySelector('#df-f6427e8c-1c36-4f31-b25d-3c7ddd598361');\n",
              "          const dataTable =\n",
              "            await google.colab.kernel.invokeFunction('convertToInteractive',\n",
              "                                                     [key], {});\n",
              "          if (!dataTable) return;\n",
              "\n",
              "          const docLinkHtml = 'Like what you see? Visit the ' +\n",
              "            '<a target=\"_blank\" href=https://colab.research.google.com/notebooks/data_table.ipynb>data table notebook</a>'\n",
              "            + ' to learn more about interactive tables.';\n",
              "          element.innerHTML = '';\n",
              "          dataTable['output_type'] = 'display_data';\n",
              "          await google.colab.output.renderOutput(dataTable, element);\n",
              "          const docLink = document.createElement('div');\n",
              "          docLink.innerHTML = docLinkHtml;\n",
              "          element.appendChild(docLink);\n",
              "        }\n",
              "      </script>\n",
              "    </div>\n",
              "  </div>\n",
              "  "
            ],
            "text/plain": [
              "            tfidf\n",
              "susah    0.779107\n",
              "agak     0.626891\n",
              "acung    0.000000\n",
              "pelan    0.000000\n",
              "parfume  0.000000\n",
              "...           ...\n",
              "hore     0.000000\n",
              "hutang   0.000000\n",
              "ibukota  0.000000\n",
              "icip     0.000000\n",
              "yuk      0.000000\n",
              "\n",
              "[966 rows x 1 columns]"
            ]
          },
          "metadata": {},
          "execution_count": 76
        }
      ]
    },
    {
      "cell_type": "code",
      "source": [
        "# settings that you use for count vectorizer will go here \n",
        "tfidf_vectorizer=TfidfVectorizer(use_idf=True) \n",
        "# just send in all your docs here\n",
        "fitted_vectorizer=tfidf_vectorizer.fit(data['review_stem'].tolist())\n",
        "tfidf_vectorizer_vectors=fitted_vectorizer.transform(data['review_stem'].tolist())\n",
        "# get the first vector out (for the first document) \n",
        "first_vector_tfidfvectorizer=tfidf_vectorizer_vectors[0] \n",
        "# place tf-idf values in a pandas data frame \n",
        "df = pd.DataFrame(first_vector_tfidfvectorizer.T.todense(), index=tfidf_vectorizer.get_feature_names(), columns=[\"tfidf\"]) \n",
        "df.sort_values(by=[\"tfidf\"],ascending=False)"
      ],
      "metadata": {
        "colab": {
          "base_uri": "https://localhost:8080/",
          "height": 478
        },
        "id": "_lpFH6CLrUpX",
        "outputId": "e6f1c489-7498-499f-eb15-5646e824d57a"
      },
      "execution_count": 77,
      "outputs": [
        {
          "output_type": "stream",
          "name": "stderr",
          "text": [
            "/usr/local/lib/python3.7/dist-packages/sklearn/utils/deprecation.py:87: FutureWarning: Function get_feature_names is deprecated; get_feature_names is deprecated in 1.0 and will be removed in 1.2. Please use get_feature_names_out instead.\n",
            "  warnings.warn(msg, category=FutureWarning)\n"
          ]
        },
        {
          "output_type": "execute_result",
          "data": {
            "text/html": [
              "\n",
              "  <div id=\"df-3094f171-d853-4bbb-953d-be77da702603\">\n",
              "    <div class=\"colab-df-container\">\n",
              "      <div>\n",
              "<style scoped>\n",
              "    .dataframe tbody tr th:only-of-type {\n",
              "        vertical-align: middle;\n",
              "    }\n",
              "\n",
              "    .dataframe tbody tr th {\n",
              "        vertical-align: top;\n",
              "    }\n",
              "\n",
              "    .dataframe thead th {\n",
              "        text-align: right;\n",
              "    }\n",
              "</style>\n",
              "<table border=\"1\" class=\"dataframe\">\n",
              "  <thead>\n",
              "    <tr style=\"text-align: right;\">\n",
              "      <th></th>\n",
              "      <th>tfidf</th>\n",
              "    </tr>\n",
              "  </thead>\n",
              "  <tbody>\n",
              "    <tr>\n",
              "      <th>susah</th>\n",
              "      <td>0.779107</td>\n",
              "    </tr>\n",
              "    <tr>\n",
              "      <th>agak</th>\n",
              "      <td>0.626891</td>\n",
              "    </tr>\n",
              "    <tr>\n",
              "      <th>acung</th>\n",
              "      <td>0.000000</td>\n",
              "    </tr>\n",
              "    <tr>\n",
              "      <th>pelan</th>\n",
              "      <td>0.000000</td>\n",
              "    </tr>\n",
              "    <tr>\n",
              "      <th>parfume</th>\n",
              "      <td>0.000000</td>\n",
              "    </tr>\n",
              "    <tr>\n",
              "      <th>...</th>\n",
              "      <td>...</td>\n",
              "    </tr>\n",
              "    <tr>\n",
              "      <th>hore</th>\n",
              "      <td>0.000000</td>\n",
              "    </tr>\n",
              "    <tr>\n",
              "      <th>hutang</th>\n",
              "      <td>0.000000</td>\n",
              "    </tr>\n",
              "    <tr>\n",
              "      <th>ibukota</th>\n",
              "      <td>0.000000</td>\n",
              "    </tr>\n",
              "    <tr>\n",
              "      <th>icip</th>\n",
              "      <td>0.000000</td>\n",
              "    </tr>\n",
              "    <tr>\n",
              "      <th>yuk</th>\n",
              "      <td>0.000000</td>\n",
              "    </tr>\n",
              "  </tbody>\n",
              "</table>\n",
              "<p>966 rows × 1 columns</p>\n",
              "</div>\n",
              "      <button class=\"colab-df-convert\" onclick=\"convertToInteractive('df-3094f171-d853-4bbb-953d-be77da702603')\"\n",
              "              title=\"Convert this dataframe to an interactive table.\"\n",
              "              style=\"display:none;\">\n",
              "        \n",
              "  <svg xmlns=\"http://www.w3.org/2000/svg\" height=\"24px\"viewBox=\"0 0 24 24\"\n",
              "       width=\"24px\">\n",
              "    <path d=\"M0 0h24v24H0V0z\" fill=\"none\"/>\n",
              "    <path d=\"M18.56 5.44l.94 2.06.94-2.06 2.06-.94-2.06-.94-.94-2.06-.94 2.06-2.06.94zm-11 1L8.5 8.5l.94-2.06 2.06-.94-2.06-.94L8.5 2.5l-.94 2.06-2.06.94zm10 10l.94 2.06.94-2.06 2.06-.94-2.06-.94-.94-2.06-.94 2.06-2.06.94z\"/><path d=\"M17.41 7.96l-1.37-1.37c-.4-.4-.92-.59-1.43-.59-.52 0-1.04.2-1.43.59L10.3 9.45l-7.72 7.72c-.78.78-.78 2.05 0 2.83L4 21.41c.39.39.9.59 1.41.59.51 0 1.02-.2 1.41-.59l7.78-7.78 2.81-2.81c.8-.78.8-2.07 0-2.86zM5.41 20L4 18.59l7.72-7.72 1.47 1.35L5.41 20z\"/>\n",
              "  </svg>\n",
              "      </button>\n",
              "      \n",
              "  <style>\n",
              "    .colab-df-container {\n",
              "      display:flex;\n",
              "      flex-wrap:wrap;\n",
              "      gap: 12px;\n",
              "    }\n",
              "\n",
              "    .colab-df-convert {\n",
              "      background-color: #E8F0FE;\n",
              "      border: none;\n",
              "      border-radius: 50%;\n",
              "      cursor: pointer;\n",
              "      display: none;\n",
              "      fill: #1967D2;\n",
              "      height: 32px;\n",
              "      padding: 0 0 0 0;\n",
              "      width: 32px;\n",
              "    }\n",
              "\n",
              "    .colab-df-convert:hover {\n",
              "      background-color: #E2EBFA;\n",
              "      box-shadow: 0px 1px 2px rgba(60, 64, 67, 0.3), 0px 1px 3px 1px rgba(60, 64, 67, 0.15);\n",
              "      fill: #174EA6;\n",
              "    }\n",
              "\n",
              "    [theme=dark] .colab-df-convert {\n",
              "      background-color: #3B4455;\n",
              "      fill: #D2E3FC;\n",
              "    }\n",
              "\n",
              "    [theme=dark] .colab-df-convert:hover {\n",
              "      background-color: #434B5C;\n",
              "      box-shadow: 0px 1px 3px 1px rgba(0, 0, 0, 0.15);\n",
              "      filter: drop-shadow(0px 1px 2px rgba(0, 0, 0, 0.3));\n",
              "      fill: #FFFFFF;\n",
              "    }\n",
              "  </style>\n",
              "\n",
              "      <script>\n",
              "        const buttonEl =\n",
              "          document.querySelector('#df-3094f171-d853-4bbb-953d-be77da702603 button.colab-df-convert');\n",
              "        buttonEl.style.display =\n",
              "          google.colab.kernel.accessAllowed ? 'block' : 'none';\n",
              "\n",
              "        async function convertToInteractive(key) {\n",
              "          const element = document.querySelector('#df-3094f171-d853-4bbb-953d-be77da702603');\n",
              "          const dataTable =\n",
              "            await google.colab.kernel.invokeFunction('convertToInteractive',\n",
              "                                                     [key], {});\n",
              "          if (!dataTable) return;\n",
              "\n",
              "          const docLinkHtml = 'Like what you see? Visit the ' +\n",
              "            '<a target=\"_blank\" href=https://colab.research.google.com/notebooks/data_table.ipynb>data table notebook</a>'\n",
              "            + ' to learn more about interactive tables.';\n",
              "          element.innerHTML = '';\n",
              "          dataTable['output_type'] = 'display_data';\n",
              "          await google.colab.output.renderOutput(dataTable, element);\n",
              "          const docLink = document.createElement('div');\n",
              "          docLink.innerHTML = docLinkHtml;\n",
              "          element.appendChild(docLink);\n",
              "        }\n",
              "      </script>\n",
              "    </div>\n",
              "  </div>\n",
              "  "
            ],
            "text/plain": [
              "            tfidf\n",
              "susah    0.779107\n",
              "agak     0.626891\n",
              "acung    0.000000\n",
              "pelan    0.000000\n",
              "parfume  0.000000\n",
              "...           ...\n",
              "hore     0.000000\n",
              "hutang   0.000000\n",
              "ibukota  0.000000\n",
              "icip     0.000000\n",
              "yuk      0.000000\n",
              "\n",
              "[966 rows x 1 columns]"
            ]
          },
          "metadata": {},
          "execution_count": 77
        }
      ]
    },
    {
      "cell_type": "markdown",
      "source": [
        "Modelling - SVM"
      ],
      "metadata": {
        "id": "KegMZzCwrZ2F"
      }
    },
    {
      "cell_type": "code",
      "source": [
        "text_clfSVM = Pipeline([\n",
        "                  ('vect', CountVectorizer()),\n",
        "                  ('tfidf', TfidfTransformer()),\n",
        "                   ('clf', svm.SVC(kernel='linear', gamma='scale'))])"
      ],
      "metadata": {
        "id": "glhKWgIjrXOm"
      },
      "execution_count": 78,
      "outputs": []
    },
    {
      "cell_type": "code",
      "source": [
        "X_train, X_test, y_train, y_test = train_test_split(data['review'],data['kategori'], test_size=0.2, random_state = 44)\n",
        "model = text_clfSVM.fit(X_train, y_train)\n",
        "y_score = model.predict(X_test)\n",
        "\n",
        "print(\"\\naccuracy :{}%\".format(round(accuracy_score(y_test,y_score)*100,2)) )"
      ],
      "metadata": {
        "colab": {
          "base_uri": "https://localhost:8080/"
        },
        "id": "DpRTmCRmrgOi",
        "outputId": "4129eac7-77ee-41b5-a8c0-72a92389a2fa"
      },
      "execution_count": 79,
      "outputs": [
        {
          "output_type": "stream",
          "name": "stdout",
          "text": [
            "\n",
            "accuracy :86.51%\n"
          ]
        }
      ]
    },
    {
      "cell_type": "code",
      "source": [
        "re_stemming = pd.DataFrame(X_test)\n",
        "re_stemming.to_csv(\"/content/drive/My Drive/Project/Thesis/result/datalatih.csv\", sep= ',')"
      ],
      "metadata": {
        "id": "6gBud_g7rjpX"
      },
      "execution_count": 80,
      "outputs": []
    },
    {
      "cell_type": "code",
      "source": [
        "from sklearn.metrics import classification_report\n",
        "from sklearn.metrics import precision_score\n",
        "from sklearn.metrics import recall_score\n",
        "\n",
        "y_true = y_score\n",
        "y_pred = y_test\n",
        "target_names = ['negatif', 'netral', 'positif']\n",
        "print(\"\\naccuracy:{}\".format(round(accuracy_score(y_true, y_pred)*100,2 )))\n",
        "print(\"\\nprecision:{}\".format(round(precision_score(y_true, y_pred, average='macro')*100,2)))\n",
        "print(\"\\nrecall:{}\".format(round(recall_score(y_true, y_pred, average='macro')*100,2)))\n",
        "\n",
        "print(classification_report(y_true, y_pred, target_names=target_names))"
      ],
      "metadata": {
        "colab": {
          "base_uri": "https://localhost:8080/"
        },
        "id": "1EtLxa4-rsUT",
        "outputId": "54cc0e1d-b8d2-48e6-95c1-bcb276e53c65"
      },
      "execution_count": 81,
      "outputs": [
        {
          "output_type": "stream",
          "name": "stdout",
          "text": [
            "\n",
            "accuracy:86.51\n",
            "\n",
            "precision:81.01\n",
            "\n",
            "recall:87.61\n",
            "              precision    recall  f1-score   support\n",
            "\n",
            "     negatif       0.87      0.85      0.86        95\n",
            "      netral       0.65      0.91      0.75        22\n",
            "     positif       0.91      0.87      0.89       135\n",
            "\n",
            "    accuracy                           0.87       252\n",
            "   macro avg       0.81      0.88      0.84       252\n",
            "weighted avg       0.87      0.87      0.87       252\n",
            "\n"
          ]
        }
      ]
    },
    {
      "cell_type": "markdown",
      "source": [
        "Test & Save Model"
      ],
      "metadata": {
        "id": "Dfq9R2E1sRe3"
      }
    },
    {
      "cell_type": "code",
      "source": [
        "i = pd.Series([\"engga ada perubahan dikulit\"])\n",
        "model.predict(i)"
      ],
      "metadata": {
        "colab": {
          "base_uri": "https://localhost:8080/"
        },
        "id": "l1e7j75msTnQ",
        "outputId": "04c0fd5d-85ca-4ede-b1b0-5eaef2fd1811"
      },
      "execution_count": 82,
      "outputs": [
        {
          "output_type": "execute_result",
          "data": {
            "text/plain": [
              "array(['negatif'], dtype=object)"
            ]
          },
          "metadata": {},
          "execution_count": 82
        }
      ]
    },
    {
      "cell_type": "code",
      "source": [
        "i = pd.Series([\"produk ini bagus banget bisa mencerahkan kulit\"])\n",
        "model.predict(i)"
      ],
      "metadata": {
        "colab": {
          "base_uri": "https://localhost:8080/"
        },
        "id": "vAUlELDlsq42",
        "outputId": "b69f7ff3-98c5-4fbf-abda-28a6a2770264"
      },
      "execution_count": 83,
      "outputs": [
        {
          "output_type": "execute_result",
          "data": {
            "text/plain": [
              "array(['positif'], dtype=object)"
            ]
          },
          "metadata": {},
          "execution_count": 83
        }
      ]
    },
    {
      "cell_type": "code",
      "source": [
        "with open(\"/content/drive/My Drive/Project/Thesis/result/model.pkl\", 'wb') as file:\n",
        "    pickle.dump(model, file)"
      ],
      "metadata": {
        "id": "1BiZRUvSsUhN"
      },
      "execution_count": 84,
      "outputs": []
    }
  ]
}